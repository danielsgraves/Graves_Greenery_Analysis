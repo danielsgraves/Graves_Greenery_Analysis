{
  "nbformat": 4,
  "nbformat_minor": 5,
  "metadata": {
    "colab": {
      "name": "Graves_Greenery_Colab_InMemory",
      "provenance": [],
      "collapsed_sections": [
        "setup-section"
      ]
    },
    "kernelspec": {
      "name": "python3",
      "display_name": "Python 3"
    },
    "language_info": {
      "name": "python",
      "version": "3.10"
    }
  },
  "cells": [
    {
      "cell_type": "markdown",
      "metadata": {
        "id": "setup-section"
      },
      "source": [
        "# 🚀 Quick Start — Load Data & Enable SQL (No Server)"
      ],
      "id": "setup-section"
    },
    {
      "cell_type": "markdown",
      "source": [
        "###_This section sets up an **in-memory DuckDB** and the `%%sql` magic so you can run SQL directly in Colab. CSVs from the GitHub repo are loaded into tables named after each file (snake_case)._\n",
        "\n",
        "###**What you get:**\n",
        "- One in-memory DuckDB session (no MySQL/SQLite servers)\n",
        "- `%%sql` / `%sql` via `ipython-sql` with pretty table output\n",
        "- Auto-load all CSVs from `data/**` → tables (e.g., `dim_customers`)\n",
        "- A quick verification query you can edit"
      ],
      "metadata": {
        "id": "qyiJsrW88Fgg"
      },
      "id": "qyiJsrW88Fgg"
    },
    {
      "cell_type": "markdown",
      "metadata": {
        "id": "3n6wzgil7zqS"
      },
      "source": [
        "### 1) Install libraries & pull your repo"
      ],
      "id": "3n6wzgil7zqS"
    },
    {
      "cell_type": "code",
      "metadata": {
        "id": "mu_JZK-x7zqT",
        "outputId": "f67bf5de-a80a-401c-ef25-1b7845834f54",
        "colab": {
          "base_uri": "https://localhost:8080/"
        }
      },
      "execution_count": 132,
      "outputs": [
        {
          "output_type": "stream",
          "name": "stdout",
          "text": [
            "Repo ready at: /content/Graves_Greenery_Analysis\n",
            "CSV root: /content/Graves_Greenery_Analysis/data\n"
          ]
        }
      ],
      "source": [
        "!pip -q install --upgrade duckdb duckdb-engine \"sqlalchemy>=2.0\" ipython-sql jupysql pandas\n",
        "\n",
        "import os, subprocess\n",
        "REPO_USER = \"danielsgraves\"                 # <-- repo owner\n",
        "REPO_NAME = \"Graves_Greenery_Analysis\"     # <-- repo name\n",
        "REPO_DIR  = f\"/content/{REPO_NAME}\"\n",
        "\n",
        "if not os.path.exists(REPO_DIR):\n",
        "    subprocess.run(\n",
        "        f\"git clone --depth 1 https://github.com/{REPO_USER}/{REPO_NAME}.git {REPO_DIR}\",\n",
        "        shell=True, check=True\n",
        "    )\n",
        "else:\n",
        "    subprocess.run(f\"git -C {REPO_DIR} pull --ff-only\", shell=True, check=True)\n",
        "\n",
        "print(\"Repo ready at:\", REPO_DIR)\n",
        "print(\"CSV root:\", f\"{REPO_DIR}/data\")"
      ],
      "id": "mu_JZK-x7zqT"
    },
    {
      "cell_type": "markdown",
      "metadata": {
        "id": "4y9LgUbo7zqT"
      },
      "source": [
        "### 2) Connect a single in-memory DuckDB session for `%%sql`"
      ],
      "id": "4y9LgUbo7zqT"
    },
    {
      "cell_type": "code",
      "metadata": {
        "id": "wu1k-5mW7zqU",
        "outputId": "d0863155-6b43-44e8-f325-d35ed81538e3",
        "colab": {
          "base_uri": "https://localhost:8080/",
          "height": 0
        }
      },
      "execution_count": 133,
      "outputs": [
        {
          "output_type": "display_data",
          "data": {
            "text/plain": [
              "displaylimit: Value None will be treated as 0 (no limit)"
            ],
            "text/html": [
              "<span style=\"None\">displaylimit: Value None will be treated as 0 (no limit)</span>"
            ]
          },
          "metadata": {}
        },
        {
          "output_type": "stream",
          "name": "stdout",
          "text": [
            "✅ Connected %sql to in-memory DuckDB.\n"
          ]
        }
      ],
      "source": [
        "%reload_ext sql\n",
        "%config SqlMagic.autopandas = False    # PrettyTable output (set True for DataFrame)\n",
        "%config SqlMagic.feedback = False\n",
        "%sql duckdb:///:memory:\n",
        "print(\"✅ Connected %sql to in-memory DuckDB.\")"
      ],
      "id": "wu1k-5mW7zqU"
    },
    {
      "cell_type": "markdown",
      "metadata": {
        "id": "G2gzsT8j7zqU"
      },
      "source": [
        "### 3) Load all CSVs → tables (names match file stems)"
      ],
      "id": "G2gzsT8j7zqU"
    },
    {
      "cell_type": "code",
      "metadata": {
        "id": "pQzLNxBB7zqU",
        "outputId": "d357779c-efc5-4961-9ca8-8d8fe5d1dc73",
        "colab": {
          "base_uri": "https://localhost:8080/"
        }
      },
      "execution_count": 134,
      "outputs": [
        {
          "output_type": "stream",
          "name": "stdout",
          "text": [
            "Found 14 CSV(s). Showing first 15 mappings…\n",
            "  data/fact_orders.csv  →  fact_orders\n",
            "  data/fact_returns.csv  →  fact_returns\n",
            "  data/dim_customers.csv  →  dim_customers\n",
            "  data/dim_inventory.csv  →  dim_inventory\n",
            "  data/dim_promotions.csv  →  dim_promotions\n",
            "  data/dim_dates.csv  →  dim_dates\n",
            "  data/dim_plants.csv  →  dim_plants\n",
            "  data/dim_return_reason.csv  →  dim_return_reason\n",
            "  data/data_dictionary.csv  →  data_dictionary\n",
            "  data/fact_order_promotions.csv  →  fact_order_promotions\n",
            "  data/graves_greenery_full_denormalized.csv  →  graves_greenery_full_denormalized\n",
            "  data/dim_locations.csv  →  dim_locations\n",
            "  data/fact_order_items.csv  →  fact_order_items\n",
            "  data/dim_plant_category.csv  →  dim_plant_category\n",
            "Loaded tables (first few): ['fact_orders', 'fact_returns', 'dim_customers', 'dim_inventory', 'dim_promotions', 'dim_dates', 'dim_plants', 'dim_return_reason']\n"
          ]
        }
      ],
      "source": [
        "import os, re, glob\n",
        "from pathlib import Path\n",
        "\n",
        "CSV_GLOB = \"data/**/*.[cC][sS][vV]\"   # case-insensitive .csv\n",
        "INCLUDE_PARENT_PREFIX = False          # True → prefix parent folder: e.g., sales_dim_customers\n",
        "\n",
        "def to_snake(name: str) -> str:\n",
        "    s = re.sub(r\"[^0-9a-zA-Z]+\", \"_\", name).strip(\"_\")\n",
        "    s = re.sub(r\"_+\", \"_\", s)\n",
        "    if s and s[0].isdigit():\n",
        "        s = \"t_\" + s\n",
        "    return s.lower()\n",
        "\n",
        "def table_name_for(csv_path: Path) -> str:\n",
        "    stem = csv_path.stem\n",
        "    if INCLUDE_PARENT_PREFIX and csv_path.parent != csv_path.parent.parent:\n",
        "        return to_snake(csv_path.parent.name + \"_\" + stem)\n",
        "    return to_snake(stem)\n",
        "\n",
        "files = [Path(p) for p in glob.glob(os.path.join(REPO_DIR, CSV_GLOB), recursive=True)]\n",
        "files = [p for p in files if p.is_file()]\n",
        "print(f\"Found {len(files)} CSV(s). Showing first 15 mappings…\")\n",
        "for rel, tbl in [(str(p.relative_to(REPO_DIR)), table_name_for(p)) for p in files[:15]]:\n",
        "    print(f\"  {rel}  →  {tbl}\")\n",
        "\n",
        "# Create tables via the same %sql connection (no secondary connections)\n",
        "for p in files:\n",
        "    tbl = table_name_for(p)\n",
        "    q = f\"\"\"\n",
        "    CREATE OR REPLACE TABLE \"{tbl}\" AS\n",
        "    SELECT * FROM read_csv_auto('{str(p)}', header=True, sample_size=-1, ignore_errors=True);\n",
        "    \"\"\"\n",
        "    get_ipython().run_cell_magic('sql', '', q)\n",
        "\n",
        "print(\"Loaded tables (first few):\", [table_name_for(p) for p in files[:8]])"
      ],
      "id": "pQzLNxBB7zqU"
    },
    {
      "cell_type": "markdown",
      "metadata": {
        "id": "Ib-SAakV7zqU"
      },
      "source": [
        "### 4) Verify & sample\n",
        "_If your repo has `data/**/dim_customers.csv`, the table will be **`dim_customers`**._"
      ],
      "id": "Ib-SAakV7zqU"
    },
    {
      "cell_type": "code",
      "source": [
        "# Remove displaylimit\n",
        "%config SqlMagic.displaylimit = None"
      ],
      "metadata": {
        "id": "n3R6NBne9Usp",
        "outputId": "bbf7b02a-14c7-4f45-b11b-9d7b44c8a128",
        "colab": {
          "base_uri": "https://localhost:8080/",
          "height": 0
        }
      },
      "id": "n3R6NBne9Usp",
      "execution_count": 135,
      "outputs": [
        {
          "output_type": "display_data",
          "data": {
            "text/plain": [
              "displaylimit: Value None will be treated as 0 (no limit)"
            ],
            "text/html": [
              "<span style=\"None\">displaylimit: Value None will be treated as 0 (no limit)</span>"
            ]
          },
          "metadata": {}
        },
        {
          "output_type": "display_data",
          "data": {
            "text/plain": [
              "displaylimit: Value None will be treated as 0 (no limit)"
            ],
            "text/html": [
              "<span style=\"None\">displaylimit: Value None will be treated as 0 (no limit)</span>"
            ]
          },
          "metadata": {}
        },
        {
          "output_type": "display_data",
          "data": {
            "text/plain": [
              "displaylimit: Value None will be treated as 0 (no limit)"
            ],
            "text/html": [
              "<span style=\"None\">displaylimit: Value None will be treated as 0 (no limit)</span>"
            ]
          },
          "metadata": {}
        },
        {
          "output_type": "display_data",
          "data": {
            "text/plain": [
              "displaylimit: Value None will be treated as 0 (no limit)"
            ],
            "text/html": [
              "<span style=\"None\">displaylimit: Value None will be treated as 0 (no limit)</span>"
            ]
          },
          "metadata": {}
        }
      ]
    },
    {
      "cell_type": "code",
      "metadata": {
        "id": "XhNd1cr_7zqU",
        "outputId": "79aa8afa-cf8a-4908-a7a8-fbf35b2c38e8",
        "colab": {
          "base_uri": "https://localhost:8080/",
          "height": 0
        }
      },
      "execution_count": 136,
      "outputs": [
        {
          "output_type": "execute_result",
          "data": {
            "text/plain": [
              "+-----------------------------------+\n",
              "|             table_name            |\n",
              "+-----------------------------------+\n",
              "|          data_dictionary          |\n",
              "|           dim_categories          |\n",
              "|           dim_customers           |\n",
              "|       dim_customers_cleaned       |\n",
              "|             dim_dates             |\n",
              "|           dim_inventory           |\n",
              "|           dim_locations           |\n",
              "|         dim_plant_category        |\n",
              "|             dim_plants            |\n",
              "|           dim_promotions          |\n",
              "|         dim_return_reason         |\n",
              "|          fact_order_items         |\n",
              "|       fact_order_promotions       |\n",
              "|            fact_orders            |\n",
              "|            fact_returns           |\n",
              "| graves_greenery_full_denormalized |\n",
              "+-----------------------------------+"
            ],
            "text/html": [
              "<table>\n",
              "    <thead>\n",
              "        <tr>\n",
              "            <th>table_name</th>\n",
              "        </tr>\n",
              "    </thead>\n",
              "    <tbody>\n",
              "        <tr>\n",
              "            <td>data_dictionary</td>\n",
              "        </tr>\n",
              "        <tr>\n",
              "            <td>dim_categories</td>\n",
              "        </tr>\n",
              "        <tr>\n",
              "            <td>dim_customers</td>\n",
              "        </tr>\n",
              "        <tr>\n",
              "            <td>dim_customers_cleaned</td>\n",
              "        </tr>\n",
              "        <tr>\n",
              "            <td>dim_dates</td>\n",
              "        </tr>\n",
              "        <tr>\n",
              "            <td>dim_inventory</td>\n",
              "        </tr>\n",
              "        <tr>\n",
              "            <td>dim_locations</td>\n",
              "        </tr>\n",
              "        <tr>\n",
              "            <td>dim_plant_category</td>\n",
              "        </tr>\n",
              "        <tr>\n",
              "            <td>dim_plants</td>\n",
              "        </tr>\n",
              "        <tr>\n",
              "            <td>dim_promotions</td>\n",
              "        </tr>\n",
              "        <tr>\n",
              "            <td>dim_return_reason</td>\n",
              "        </tr>\n",
              "        <tr>\n",
              "            <td>fact_order_items</td>\n",
              "        </tr>\n",
              "        <tr>\n",
              "            <td>fact_order_promotions</td>\n",
              "        </tr>\n",
              "        <tr>\n",
              "            <td>fact_orders</td>\n",
              "        </tr>\n",
              "        <tr>\n",
              "            <td>fact_returns</td>\n",
              "        </tr>\n",
              "        <tr>\n",
              "            <td>graves_greenery_full_denormalized</td>\n",
              "        </tr>\n",
              "    </tbody>\n",
              "</table>"
            ]
          },
          "metadata": {},
          "execution_count": 136
        }
      ],
      "source": [
        "%%sql\n",
        "SELECT table_name\n",
        "FROM information_schema.tables\n",
        "WHERE table_schema='main'\n",
        "ORDER BY table_name;"
      ],
      "id": "XhNd1cr_7zqU"
    },
    {
      "cell_type": "code",
      "metadata": {
        "id": "AxEPCgr27zqV",
        "outputId": "f7ef6634-8848-4dea-ff03-501875ae74c0",
        "colab": {
          "base_uri": "https://localhost:8080/",
          "height": 0
        }
      },
      "execution_count": 137,
      "outputs": [
        {
          "output_type": "execute_result",
          "data": {
            "text/plain": [
              "+-------------+------------+-----------+-----------------------------+----------------+------------------+----------+---------------+----------------+-------------+---------+---------------------+------------------+--------------+----------------+\n",
              "| customer_id | first_name | last_name |            email            |     phone      |     address1     | address2 |      city     | state_province | postal_code | country |      signup_ts      | marketing_opt_in | loyalty_tier | source_channel |\n",
              "+-------------+------------+-----------+-----------------------------+----------------+------------------+----------+---------------+----------------+-------------+---------+---------------------+------------------+--------------+----------------+\n",
              "|      1      |   Lucas    | Johansson |  johansson.lucas@gmail.com  | (424) 782-5074 |   3886 Fir Rd    |   None   |  Grand Rapids |       MI       |    49056    |   USA   | 2023-09-10 15:49:16 |      False       |    Green     |    In-Store    |\n",
              "|      2      |   Karim    | Kobayashi | kobayashi.karim@hotmail.com | (245) 627-4759 | 4868 Juniper Ter |   None   | Charlottetown |       PE       |   C8H 1K6   |  Canada | 2022-06-20 13:44:19 |      False       |   Emerald    |     Online     |\n",
              "+-------------+------------+-----------+-----------------------------+----------------+------------------+----------+---------------+----------------+-------------+---------+---------------------+------------------+--------------+----------------+"
            ],
            "text/html": [
              "<table>\n",
              "    <thead>\n",
              "        <tr>\n",
              "            <th>customer_id</th>\n",
              "            <th>first_name</th>\n",
              "            <th>last_name</th>\n",
              "            <th>email</th>\n",
              "            <th>phone</th>\n",
              "            <th>address1</th>\n",
              "            <th>address2</th>\n",
              "            <th>city</th>\n",
              "            <th>state_province</th>\n",
              "            <th>postal_code</th>\n",
              "            <th>country</th>\n",
              "            <th>signup_ts</th>\n",
              "            <th>marketing_opt_in</th>\n",
              "            <th>loyalty_tier</th>\n",
              "            <th>source_channel</th>\n",
              "        </tr>\n",
              "    </thead>\n",
              "    <tbody>\n",
              "        <tr>\n",
              "            <td>1</td>\n",
              "            <td>Lucas</td>\n",
              "            <td>Johansson</td>\n",
              "            <td>johansson.lucas@gmail.com</td>\n",
              "            <td>(424) 782-5074</td>\n",
              "            <td>3886 Fir Rd</td>\n",
              "            <td>None</td>\n",
              "            <td>Grand Rapids</td>\n",
              "            <td>MI</td>\n",
              "            <td>49056</td>\n",
              "            <td>USA</td>\n",
              "            <td>2023-09-10 15:49:16</td>\n",
              "            <td>False</td>\n",
              "            <td>Green</td>\n",
              "            <td>In-Store</td>\n",
              "        </tr>\n",
              "        <tr>\n",
              "            <td>2</td>\n",
              "            <td>Karim</td>\n",
              "            <td>Kobayashi</td>\n",
              "            <td>kobayashi.karim@hotmail.com</td>\n",
              "            <td>(245) 627-4759</td>\n",
              "            <td>4868 Juniper Ter</td>\n",
              "            <td>None</td>\n",
              "            <td>Charlottetown</td>\n",
              "            <td>PE</td>\n",
              "            <td>C8H 1K6</td>\n",
              "            <td>Canada</td>\n",
              "            <td>2022-06-20 13:44:19</td>\n",
              "            <td>False</td>\n",
              "            <td>Emerald</td>\n",
              "            <td>Online</td>\n",
              "        </tr>\n",
              "    </tbody>\n",
              "</table>"
            ]
          },
          "metadata": {},
          "execution_count": 137
        }
      ],
      "source": [
        "%%sql\n",
        "SELECT *\n",
        "FROM dim_customers\n",
        "LIMIT 2;"
      ],
      "id": "AxEPCgr27zqV"
    },
    {
      "cell_type": "markdown",
      "metadata": {
        "id": "IWK88Gn97zqV"
      },
      "source": [
        "# Project Overview"
      ],
      "id": "IWK88Gn97zqV"
    },
    {
      "cell_type": "markdown",
      "metadata": {
        "id": "EWX7U1FU7zqV"
      },
      "source": [
        "# Problem Statement"
      ],
      "id": "EWX7U1FU7zqV"
    },
    {
      "cell_type": "markdown",
      "metadata": {
        "id": "qmdVzytF7zqV"
      },
      "source": [
        "# Data Cleaning and Preparation"
      ],
      "id": "qmdVzytF7zqV"
    },
    {
      "cell_type": "markdown",
      "source": [
        "---\n",
        "Clean & trim columns from dim_customers table and create cleaned view\n",
        "---"
      ],
      "metadata": {
        "id": "We9kSsgSE9d1"
      },
      "id": "We9kSsgSE9d1"
    },
    {
      "cell_type": "code",
      "source": [
        "%%sql\n",
        "CREATE OR REPLACE VIEW dim_customers_cleaned AS\n",
        "SELECT\n",
        "                customer_id\n",
        "              , CONCAT(UPPER(LEFT(TRIM(first_name),1)), LOWER(SUBSTRING(TRIM(first_name), 2))) AS first_name -- Normalized first name\n",
        "              , CONCAT(UPPER(LEFT(TRIM(last_name),1)), LOWER(SUBSTRING(TRIM(last_name), 2))) AS last_name -- Normalized first name\n",
        "              , TRIM(LOWER(email)) AS email\n",
        "              , CASE        -- Removes all non-numeric characters, country code & formats phone column\n",
        "                        WHEN LENGTH(regexp_replace(phone, '[^0-9]', '', 'g')) = 11 AND LEFT(regexp_replace(phone, '[^0-9]', '', 'g'), 1) = '1'\n",
        "                        THEN regexp_replace(SUBSTRING(regexp_replace(phone, '[^0-9]', '', 'g'), 2), '(\\d{3})(\\d{3})(\\d{4})', '(\\1) \\2-\\3')\n",
        "                        WHEN LENGTH(regexp_replace(phone, '[^0-9]', '', 'g')) = 10\n",
        "                        THEN regexp_replace(regexp_replace(phone, '[^0-9]', '', 'g'), '(\\d{3})(\\d{3})(\\d{4})', '(\\1) \\2-\\3')\n",
        "                        ELSE regexp_replace(phone, '[^0-9]', '', 'g')\n",
        "                END AS phone\n",
        "              , TRIM(UPPER(address1)) AS address1\n",
        "              , address2\n",
        "              , CONCAT(UPPER(LEFT(TRIM(city),1)), LOWER(SUBSTRING(TRIM(city), 2))) AS city -- Normalized city\n",
        "              , state_province\n",
        "              , postal_code\n",
        "              , country\n",
        "              , signup_ts\n",
        "              , marketing_opt_in\n",
        "              , loyalty_tier\n",
        "              , source_channel\n",
        "\n",
        "FROM\n",
        "                dim_customers"
      ],
      "metadata": {
        "colab": {
          "base_uri": "https://localhost:8080/",
          "height": 40
        },
        "id": "P1hwD5SWAvLn",
        "outputId": "f5c3854a-4859-484f-f1ad-2f448a88983c"
      },
      "id": "P1hwD5SWAvLn",
      "execution_count": 138,
      "outputs": [
        {
          "output_type": "execute_result",
          "data": {
            "text/plain": [
              "+-------+\n",
              "| Count |\n",
              "+-------+\n",
              "+-------+"
            ],
            "text/html": [
              "<table>\n",
              "    <thead>\n",
              "        <tr>\n",
              "            <th>Count</th>\n",
              "        </tr>\n",
              "    </thead>\n",
              "    <tbody>\n",
              "    </tbody>\n",
              "</table>"
            ]
          },
          "metadata": {},
          "execution_count": 138
        }
      ]
    },
    {
      "cell_type": "markdown",
      "source": [
        "---\n",
        "Dedupe customers table\n",
        "---"
      ],
      "metadata": {
        "id": "to7PIz-5FYs5"
      },
      "id": "to7PIz-5FYs5"
    },
    {
      "cell_type": "code",
      "source": [
        "%%sql\n",
        "WITH duplicates AS (SELECT DISTINCT\n",
        "                    first_name\n",
        "                  , last_name\n",
        "                  , city\n",
        "                  , COUNT(*) AS duplicate_count\n",
        "FROM\n",
        "                    dim_customers\n",
        "GROUP BY\n",
        "                    first_name\n",
        "                  , last_name\n",
        "                  , city\n",
        "HAVING\n",
        "                    count(*) > 1\n",
        ")\n",
        "\n",
        "SELECT\n",
        "          dc.*\n",
        "FROM\n",
        "          dim_customers dc\n",
        "  JOIN\n",
        "          duplicates d ON\n",
        "              dc.first_name = d.first_name AND\n",
        "              dc.last_name = d.last_name AND\n",
        "              dc.city = d.city\n",
        "ORDER BY\n",
        "          dc.first_name\n",
        "        , dc.last_name\n",
        "        , dc.city"
      ],
      "metadata": {
        "colab": {
          "base_uri": "https://localhost:8080/",
          "height": 428
        },
        "id": "Fi1s6KeAFmhR",
        "outputId": "b9fa9a18-b3ae-4b5b-bb11-1f4629082789"
      },
      "id": "Fi1s6KeAFmhR",
      "execution_count": 139,
      "outputs": [
        {
          "output_type": "execute_result",
          "data": {
            "text/plain": [
              "+-------------+------------+-----------+------------------------------+----------------+-----------------+----------+----------------+----------------+-------------+---------+---------------------+------------------+--------------+----------------+\n",
              "| customer_id | first_name | last_name |            email             |     phone      |     address1    | address2 |      city      | state_province | postal_code | country |      signup_ts      | marketing_opt_in | loyalty_tier | source_channel |\n",
              "+-------------+------------+-----------+------------------------------+----------------+-----------------+----------+----------------+----------------+-------------+---------+---------------------+------------------+--------------+----------------+\n",
              "|      81     |    Ara     |   Nowak   |       anowak@gmail.com       | (333) 515-4878 |   585 Alder St  |   None   |   Pittsburgh   |       PA       |    18568    |   USA   | 2021-02-09 22:49:12 |       True       |    Silver    |     Online     |\n",
              "|     9296    |    Ara     |   Nowak   |     nowak.ara@icloud.com     | (974) 979-3629 | 6826 Cherry Ave |   None   |   Pittsburgh   |       PA       |    19639    |   USA   | 2024-02-16 20:22:37 |      False       |     Gold     |     Online     |\n",
              "|      85     |   Evelyn   |   Thomas  |     ethomas@outlook.com      | (684) 285-7437 |  3583 Cedar Rd  |   None   |   Wilmington   |       DE       |    19770    |   USA   | 2024-09-24 23:54:30 |       True       |     Gold     |    In-Store    |\n",
              "|     9300    |   Evelyn   |   Thomas  |   evelyn.thomas@icloud.com   | (801) 350-8929 |   7467 Pine Pl  |   None   |   Wilmington   |       DE       |    19866    |   USA   | 2022-11-06 06:22:43 |       True       |    Silver    |    In-Store    |\n",
              "|     211     |    Jack    |  Pereira  |    jackpereira@yahoo.com     | (348) 553-2402 |  491 Alder Blvd |   None   |   Montgomery   |       AL       |    36119    |   USA   | 2020-08-14 06:30:49 |       True       |    Green     |    In-Store    |\n",
              "|     9426    |    Jack    |  Pereira  |    jack_pereira@proton.me    | (969) 240-9379 |   8678 Vine St  |   None   |   Montgomery   |       AL       |    36096    |   USA   | 2024-02-20 09:02:27 |      False       |    Green     |    In-Store    |\n",
              "|     150     |   James    |   Greco   |      jgreco9644@aol.com      | (356) 765-4944 |   3978 Elm Ct   |   None   |     Tulsa      |       OK       |    73686    |   USA   | 2023-09-17 06:58:58 |      False       |    Green     |    In-Store    |\n",
              "|     9365    |   James    |   Greco   | james_greco7236@outlook.com  | (870) 859-6371 |  2747 Laurel Ct |   None   |     Tulsa      |       OK       |    74252    |   USA   | 2020-05-25 09:09:49 |       True       |    Green     |     Online     |\n",
              "|     285     |  Madison   |  Ferreira |    mferreira4164@aol.com     | (637) 932-3901 |   1780 Elm Ter  |  Apt 51  | Salt Lake City |       UT       |    84159    |   USA   | 2021-10-28 19:08:05 |      False       |    Silver    |    In-Store    |\n",
              "|     9500    |  Madison   |  Ferreira | madison_ferreira2147@aol.com | (622) 837-8247 | 9587 Poplar Ter |   None   | Salt Lake City |       UT       |    84614    |   USA   | 2024-03-30 13:16:35 |       True       |    Green     |     Online     |\n",
              "+-------------+------------+-----------+------------------------------+----------------+-----------------+----------+----------------+----------------+-------------+---------+---------------------+------------------+--------------+----------------+"
            ],
            "text/html": [
              "<table>\n",
              "    <thead>\n",
              "        <tr>\n",
              "            <th>customer_id</th>\n",
              "            <th>first_name</th>\n",
              "            <th>last_name</th>\n",
              "            <th>email</th>\n",
              "            <th>phone</th>\n",
              "            <th>address1</th>\n",
              "            <th>address2</th>\n",
              "            <th>city</th>\n",
              "            <th>state_province</th>\n",
              "            <th>postal_code</th>\n",
              "            <th>country</th>\n",
              "            <th>signup_ts</th>\n",
              "            <th>marketing_opt_in</th>\n",
              "            <th>loyalty_tier</th>\n",
              "            <th>source_channel</th>\n",
              "        </tr>\n",
              "    </thead>\n",
              "    <tbody>\n",
              "        <tr>\n",
              "            <td>81</td>\n",
              "            <td>Ara</td>\n",
              "            <td>Nowak</td>\n",
              "            <td>anowak@gmail.com</td>\n",
              "            <td>(333) 515-4878</td>\n",
              "            <td>585 Alder St</td>\n",
              "            <td>None</td>\n",
              "            <td>Pittsburgh</td>\n",
              "            <td>PA</td>\n",
              "            <td>18568</td>\n",
              "            <td>USA</td>\n",
              "            <td>2021-02-09 22:49:12</td>\n",
              "            <td>True</td>\n",
              "            <td>Silver</td>\n",
              "            <td>Online</td>\n",
              "        </tr>\n",
              "        <tr>\n",
              "            <td>9296</td>\n",
              "            <td>Ara</td>\n",
              "            <td>Nowak</td>\n",
              "            <td>nowak.ara@icloud.com</td>\n",
              "            <td>(974) 979-3629</td>\n",
              "            <td>6826 Cherry Ave</td>\n",
              "            <td>None</td>\n",
              "            <td>Pittsburgh</td>\n",
              "            <td>PA</td>\n",
              "            <td>19639</td>\n",
              "            <td>USA</td>\n",
              "            <td>2024-02-16 20:22:37</td>\n",
              "            <td>False</td>\n",
              "            <td>Gold</td>\n",
              "            <td>Online</td>\n",
              "        </tr>\n",
              "        <tr>\n",
              "            <td>85</td>\n",
              "            <td>Evelyn</td>\n",
              "            <td>Thomas</td>\n",
              "            <td>ethomas@outlook.com</td>\n",
              "            <td>(684) 285-7437</td>\n",
              "            <td>3583 Cedar Rd</td>\n",
              "            <td>None</td>\n",
              "            <td>Wilmington</td>\n",
              "            <td>DE</td>\n",
              "            <td>19770</td>\n",
              "            <td>USA</td>\n",
              "            <td>2024-09-24 23:54:30</td>\n",
              "            <td>True</td>\n",
              "            <td>Gold</td>\n",
              "            <td>In-Store</td>\n",
              "        </tr>\n",
              "        <tr>\n",
              "            <td>9300</td>\n",
              "            <td>Evelyn</td>\n",
              "            <td>Thomas</td>\n",
              "            <td>evelyn.thomas@icloud.com</td>\n",
              "            <td>(801) 350-8929</td>\n",
              "            <td>7467 Pine Pl</td>\n",
              "            <td>None</td>\n",
              "            <td>Wilmington</td>\n",
              "            <td>DE</td>\n",
              "            <td>19866</td>\n",
              "            <td>USA</td>\n",
              "            <td>2022-11-06 06:22:43</td>\n",
              "            <td>True</td>\n",
              "            <td>Silver</td>\n",
              "            <td>In-Store</td>\n",
              "        </tr>\n",
              "        <tr>\n",
              "            <td>211</td>\n",
              "            <td>Jack</td>\n",
              "            <td>Pereira</td>\n",
              "            <td>jackpereira@yahoo.com</td>\n",
              "            <td>(348) 553-2402</td>\n",
              "            <td>491 Alder Blvd</td>\n",
              "            <td>None</td>\n",
              "            <td>Montgomery</td>\n",
              "            <td>AL</td>\n",
              "            <td>36119</td>\n",
              "            <td>USA</td>\n",
              "            <td>2020-08-14 06:30:49</td>\n",
              "            <td>True</td>\n",
              "            <td>Green</td>\n",
              "            <td>In-Store</td>\n",
              "        </tr>\n",
              "        <tr>\n",
              "            <td>9426</td>\n",
              "            <td>Jack</td>\n",
              "            <td>Pereira</td>\n",
              "            <td>jack_pereira@proton.me</td>\n",
              "            <td>(969) 240-9379</td>\n",
              "            <td>8678 Vine St</td>\n",
              "            <td>None</td>\n",
              "            <td>Montgomery</td>\n",
              "            <td>AL</td>\n",
              "            <td>36096</td>\n",
              "            <td>USA</td>\n",
              "            <td>2024-02-20 09:02:27</td>\n",
              "            <td>False</td>\n",
              "            <td>Green</td>\n",
              "            <td>In-Store</td>\n",
              "        </tr>\n",
              "        <tr>\n",
              "            <td>150</td>\n",
              "            <td>James</td>\n",
              "            <td>Greco</td>\n",
              "            <td>jgreco9644@aol.com</td>\n",
              "            <td>(356) 765-4944</td>\n",
              "            <td>3978 Elm Ct</td>\n",
              "            <td>None</td>\n",
              "            <td>Tulsa</td>\n",
              "            <td>OK</td>\n",
              "            <td>73686</td>\n",
              "            <td>USA</td>\n",
              "            <td>2023-09-17 06:58:58</td>\n",
              "            <td>False</td>\n",
              "            <td>Green</td>\n",
              "            <td>In-Store</td>\n",
              "        </tr>\n",
              "        <tr>\n",
              "            <td>9365</td>\n",
              "            <td>James</td>\n",
              "            <td>Greco</td>\n",
              "            <td>james_greco7236@outlook.com</td>\n",
              "            <td>(870) 859-6371</td>\n",
              "            <td>2747 Laurel Ct</td>\n",
              "            <td>None</td>\n",
              "            <td>Tulsa</td>\n",
              "            <td>OK</td>\n",
              "            <td>74252</td>\n",
              "            <td>USA</td>\n",
              "            <td>2020-05-25 09:09:49</td>\n",
              "            <td>True</td>\n",
              "            <td>Green</td>\n",
              "            <td>Online</td>\n",
              "        </tr>\n",
              "        <tr>\n",
              "            <td>285</td>\n",
              "            <td>Madison</td>\n",
              "            <td>Ferreira</td>\n",
              "            <td>mferreira4164@aol.com</td>\n",
              "            <td>(637) 932-3901</td>\n",
              "            <td>1780 Elm Ter</td>\n",
              "            <td>Apt 51</td>\n",
              "            <td>Salt Lake City</td>\n",
              "            <td>UT</td>\n",
              "            <td>84159</td>\n",
              "            <td>USA</td>\n",
              "            <td>2021-10-28 19:08:05</td>\n",
              "            <td>False</td>\n",
              "            <td>Silver</td>\n",
              "            <td>In-Store</td>\n",
              "        </tr>\n",
              "        <tr>\n",
              "            <td>9500</td>\n",
              "            <td>Madison</td>\n",
              "            <td>Ferreira</td>\n",
              "            <td>madison_ferreira2147@aol.com</td>\n",
              "            <td>(622) 837-8247</td>\n",
              "            <td>9587 Poplar Ter</td>\n",
              "            <td>None</td>\n",
              "            <td>Salt Lake City</td>\n",
              "            <td>UT</td>\n",
              "            <td>84614</td>\n",
              "            <td>USA</td>\n",
              "            <td>2024-03-30 13:16:35</td>\n",
              "            <td>True</td>\n",
              "            <td>Green</td>\n",
              "            <td>Online</td>\n",
              "        </tr>\n",
              "    </tbody>\n",
              "</table>"
            ]
          },
          "metadata": {},
          "execution_count": 139
        }
      ]
    },
    {
      "cell_type": "markdown",
      "source": [
        "---\n",
        "Orders exploration\n",
        "---"
      ],
      "metadata": {
        "id": "n3ovFq7G8W-7"
      },
      "id": "n3ovFq7G8W-7"
    },
    {
      "cell_type": "markdown",
      "source": [
        "---\n",
        "Highest margin plants\n",
        "---"
      ],
      "metadata": {
        "id": "CoICgMui9EoV"
      },
      "id": "CoICgMui9EoV"
    },
    {
      "cell_type": "code",
      "source": [
        "%%sql\n",
        "SELECT\n",
        "              foi.order_id\n",
        "            , p.plant_name\n",
        "            , foi.plant_id\n",
        "            , foi.unit_price\n",
        "            , foi.estimated_margin AS margin\n",
        "\n",
        "FROM\n",
        "              fact_order_items foi\n",
        "LEFT JOIN\n",
        "              dim_plants p\n",
        "        ON\n",
        "              foi.plant_id = p.plant_id\n",
        "ORDER BY\n",
        "              margin DESC\n",
        "LIMIT 25"
      ],
      "metadata": {
        "colab": {
          "base_uri": "https://localhost:8080/",
          "height": 574
        },
        "id": "uXstayF58WNb",
        "outputId": "4332fed7-c6db-4187-8766-74eb3760ce33"
      },
      "id": "uXstayF58WNb",
      "execution_count": 141,
      "outputs": [
        {
          "output_type": "execute_result",
          "data": {
            "text/plain": [
              "+----------+-----------------------------------+----------+------------+--------+\n",
              "| order_id |             plant_name            | plant_id | unit_price | margin |\n",
              "+----------+-----------------------------------+----------+------------+--------+\n",
              "|  311170  |        Malus domestica 2gal       |   670    |   266.71   | 302.46 |\n",
              "|  300146  |        Malus domestica 2gal       |   670    |   263.84   | 293.85 |\n",
              "|  313923  |        Malus domestica 2gal       |   670    |   256.39   | 271.5  |\n",
              "|  314048  |        Malus domestica 2gal       |   670    |   286.04   | 240.3  |\n",
              "|  306372  |        Malus domestica 2gal       |   670    |   285.09   | 238.4  |\n",
              "|  315459  |        Malus domestica 2gal       |   670    |   284.53   | 237.28 |\n",
              "|  309002  |        Malus domestica 2gal       |   670    |   281.69   | 231.6  |\n",
              "|  324774  | Brassia verrucosa 'Tricolor' 2gal |   104    |   148.97   | 224.28 |\n",
              "|  319364  | Brassia verrucosa 'Tricolor' 2gal |   104    |   147.3    | 219.27 |\n",
              "|  306001  | Brassia verrucosa 'Tricolor' 2gal |   104    |   145.56   | 214.05 |\n",
              "|  315418  |         Acer palmatum 2gal        |   654    |   201.2    | 210.15 |\n",
              "|  318885  |        Malus domestica 2gal       |   670    |   270.61   | 209.44 |\n",
              "|  314610  | Brassia verrucosa 'Tricolor' 2gal |   104    |   145.48   | 208.81 |\n",
              "|  305958  |        Malus domestica 2gal       |   670    |   269.09   | 206.4  |\n",
              "|  306926  |     Laurus nobilis 'Nana' 2gal    |   660    |   194.64   | 203.94 |\n",
              "|  324709  | Brassia verrucosa 'Tricolor' 2gal |   104    |   142.16   | 203.85 |\n",
              "|  323676  |        Malus domestica 2gal       |   670    |   265.36   | 198.94 |\n",
              "|  315636  |        Malus domestica 2gal       |   670    |   265.08   | 198.38 |\n",
              "|  322739  |         Acer palmatum 2gal        |   654    |   196.69   | 196.62 |\n",
              "|  324134  | Brassia verrucosa 'Tricolor' 2gal |   104    |   138.57   | 193.08 |\n",
              "|  319109  |        Malus domestica 2gal       |   670    |   261.03   | 190.28 |\n",
              "|  311202  |        Malus domestica 2gal       |   670    |   259.37   | 186.96 |\n",
              "|  323531  |        Malus domestica 2gal       |   670    |   258.75   | 185.72 |\n",
              "|  313973  |        Malus domestica 2gal       |   670    |   257.79   | 183.8  |\n",
              "|  318559  |        Ficus elastica 1gal        |    20    |   120.18   | 183.36 |\n",
              "+----------+-----------------------------------+----------+------------+--------+"
            ],
            "text/html": [
              "<table>\n",
              "    <thead>\n",
              "        <tr>\n",
              "            <th>order_id</th>\n",
              "            <th>plant_name</th>\n",
              "            <th>plant_id</th>\n",
              "            <th>unit_price</th>\n",
              "            <th>margin</th>\n",
              "        </tr>\n",
              "    </thead>\n",
              "    <tbody>\n",
              "        <tr>\n",
              "            <td>311170</td>\n",
              "            <td>Malus domestica 2gal</td>\n",
              "            <td>670</td>\n",
              "            <td>266.71</td>\n",
              "            <td>302.46</td>\n",
              "        </tr>\n",
              "        <tr>\n",
              "            <td>300146</td>\n",
              "            <td>Malus domestica 2gal</td>\n",
              "            <td>670</td>\n",
              "            <td>263.84</td>\n",
              "            <td>293.85</td>\n",
              "        </tr>\n",
              "        <tr>\n",
              "            <td>313923</td>\n",
              "            <td>Malus domestica 2gal</td>\n",
              "            <td>670</td>\n",
              "            <td>256.39</td>\n",
              "            <td>271.5</td>\n",
              "        </tr>\n",
              "        <tr>\n",
              "            <td>314048</td>\n",
              "            <td>Malus domestica 2gal</td>\n",
              "            <td>670</td>\n",
              "            <td>286.04</td>\n",
              "            <td>240.3</td>\n",
              "        </tr>\n",
              "        <tr>\n",
              "            <td>306372</td>\n",
              "            <td>Malus domestica 2gal</td>\n",
              "            <td>670</td>\n",
              "            <td>285.09</td>\n",
              "            <td>238.4</td>\n",
              "        </tr>\n",
              "        <tr>\n",
              "            <td>315459</td>\n",
              "            <td>Malus domestica 2gal</td>\n",
              "            <td>670</td>\n",
              "            <td>284.53</td>\n",
              "            <td>237.28</td>\n",
              "        </tr>\n",
              "        <tr>\n",
              "            <td>309002</td>\n",
              "            <td>Malus domestica 2gal</td>\n",
              "            <td>670</td>\n",
              "            <td>281.69</td>\n",
              "            <td>231.6</td>\n",
              "        </tr>\n",
              "        <tr>\n",
              "            <td>324774</td>\n",
              "            <td>Brassia verrucosa 'Tricolor' 2gal</td>\n",
              "            <td>104</td>\n",
              "            <td>148.97</td>\n",
              "            <td>224.28</td>\n",
              "        </tr>\n",
              "        <tr>\n",
              "            <td>319364</td>\n",
              "            <td>Brassia verrucosa 'Tricolor' 2gal</td>\n",
              "            <td>104</td>\n",
              "            <td>147.3</td>\n",
              "            <td>219.27</td>\n",
              "        </tr>\n",
              "        <tr>\n",
              "            <td>306001</td>\n",
              "            <td>Brassia verrucosa 'Tricolor' 2gal</td>\n",
              "            <td>104</td>\n",
              "            <td>145.56</td>\n",
              "            <td>214.05</td>\n",
              "        </tr>\n",
              "        <tr>\n",
              "            <td>315418</td>\n",
              "            <td>Acer palmatum 2gal</td>\n",
              "            <td>654</td>\n",
              "            <td>201.2</td>\n",
              "            <td>210.15</td>\n",
              "        </tr>\n",
              "        <tr>\n",
              "            <td>318885</td>\n",
              "            <td>Malus domestica 2gal</td>\n",
              "            <td>670</td>\n",
              "            <td>270.61</td>\n",
              "            <td>209.44</td>\n",
              "        </tr>\n",
              "        <tr>\n",
              "            <td>314610</td>\n",
              "            <td>Brassia verrucosa 'Tricolor' 2gal</td>\n",
              "            <td>104</td>\n",
              "            <td>145.48</td>\n",
              "            <td>208.81</td>\n",
              "        </tr>\n",
              "        <tr>\n",
              "            <td>305958</td>\n",
              "            <td>Malus domestica 2gal</td>\n",
              "            <td>670</td>\n",
              "            <td>269.09</td>\n",
              "            <td>206.4</td>\n",
              "        </tr>\n",
              "        <tr>\n",
              "            <td>306926</td>\n",
              "            <td>Laurus nobilis 'Nana' 2gal</td>\n",
              "            <td>660</td>\n",
              "            <td>194.64</td>\n",
              "            <td>203.94</td>\n",
              "        </tr>\n",
              "        <tr>\n",
              "            <td>324709</td>\n",
              "            <td>Brassia verrucosa 'Tricolor' 2gal</td>\n",
              "            <td>104</td>\n",
              "            <td>142.16</td>\n",
              "            <td>203.85</td>\n",
              "        </tr>\n",
              "        <tr>\n",
              "            <td>323676</td>\n",
              "            <td>Malus domestica 2gal</td>\n",
              "            <td>670</td>\n",
              "            <td>265.36</td>\n",
              "            <td>198.94</td>\n",
              "        </tr>\n",
              "        <tr>\n",
              "            <td>315636</td>\n",
              "            <td>Malus domestica 2gal</td>\n",
              "            <td>670</td>\n",
              "            <td>265.08</td>\n",
              "            <td>198.38</td>\n",
              "        </tr>\n",
              "        <tr>\n",
              "            <td>322739</td>\n",
              "            <td>Acer palmatum 2gal</td>\n",
              "            <td>654</td>\n",
              "            <td>196.69</td>\n",
              "            <td>196.62</td>\n",
              "        </tr>\n",
              "        <tr>\n",
              "            <td>324134</td>\n",
              "            <td>Brassia verrucosa 'Tricolor' 2gal</td>\n",
              "            <td>104</td>\n",
              "            <td>138.57</td>\n",
              "            <td>193.08</td>\n",
              "        </tr>\n",
              "        <tr>\n",
              "            <td>319109</td>\n",
              "            <td>Malus domestica 2gal</td>\n",
              "            <td>670</td>\n",
              "            <td>261.03</td>\n",
              "            <td>190.28</td>\n",
              "        </tr>\n",
              "        <tr>\n",
              "            <td>311202</td>\n",
              "            <td>Malus domestica 2gal</td>\n",
              "            <td>670</td>\n",
              "            <td>259.37</td>\n",
              "            <td>186.96</td>\n",
              "        </tr>\n",
              "        <tr>\n",
              "            <td>323531</td>\n",
              "            <td>Malus domestica 2gal</td>\n",
              "            <td>670</td>\n",
              "            <td>258.75</td>\n",
              "            <td>185.72</td>\n",
              "        </tr>\n",
              "        <tr>\n",
              "            <td>313973</td>\n",
              "            <td>Malus domestica 2gal</td>\n",
              "            <td>670</td>\n",
              "            <td>257.79</td>\n",
              "            <td>183.8</td>\n",
              "        </tr>\n",
              "        <tr>\n",
              "            <td>318559</td>\n",
              "            <td>Ficus elastica 1gal</td>\n",
              "            <td>20</td>\n",
              "            <td>120.18</td>\n",
              "            <td>183.36</td>\n",
              "        </tr>\n",
              "    </tbody>\n",
              "</table>"
            ]
          },
          "metadata": {},
          "execution_count": 141
        }
      ]
    },
    {
      "cell_type": "markdown",
      "metadata": {
        "id": "3Xl3Wsh97zqV"
      },
      "source": [
        "# Exploratory Data Analysis (EDA)"
      ],
      "id": "3Xl3Wsh97zqV"
    },
    {
      "cell_type": "markdown",
      "metadata": {
        "id": "bhPuAgOu7zqV"
      },
      "source": [
        "# Solution and Implementation"
      ],
      "id": "bhPuAgOu7zqV"
    },
    {
      "cell_type": "markdown",
      "metadata": {
        "id": "j_PTwb9A7zqV"
      },
      "source": [
        "# Recommendations and Next Steps"
      ],
      "id": "j_PTwb9A7zqV"
    }
  ]
}