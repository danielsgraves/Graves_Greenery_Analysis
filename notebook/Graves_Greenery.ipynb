{
  "nbformat": 4,
  "nbformat_minor": 5,
  "metadata": {
    "colab": {
      "name": "Graves_Greenery_Colab_InMemory",
      "provenance": [],
      "collapsed_sections": [
        "setup-section"
      ]
    },
    "kernelspec": {
      "name": "python3",
      "display_name": "Python 3"
    },
    "language_info": {
      "name": "python",
      "version": "3.10"
    }
  },
  "cells": [
    {
      "cell_type": "markdown",
      "metadata": {
        "id": "setup-section"
      },
      "source": [
        "# 🚀 Quick Start — Load Data & Enable SQL (No Server)"
      ],
      "id": "setup-section"
    },
    {
      "cell_type": "markdown",
      "source": [
        "###_This section sets up an **in-memory DuckDB** and the `%%sql` magic so you can run SQL directly in Colab. CSVs from the GitHub repo are loaded into tables named after each file (snake_case)._\n",
        "\n",
        "###**What you get:**\n",
        "- One in-memory DuckDB session (no MySQL/SQLite servers)\n",
        "- `%%sql` / `%sql` via `ipython-sql` with pretty table output\n",
        "- Auto-load all CSVs from `data/**` → tables (e.g., `dim_customers`)\n",
        "- A quick verification query you can edit"
      ],
      "metadata": {
        "id": "qyiJsrW88Fgg"
      },
      "id": "qyiJsrW88Fgg"
    },
    {
      "cell_type": "markdown",
      "metadata": {
        "id": "3n6wzgil7zqS"
      },
      "source": [
        "### 1) Install libraries & pull your repo"
      ],
      "id": "3n6wzgil7zqS"
    },
    {
      "cell_type": "code",
      "metadata": {
        "id": "mu_JZK-x7zqT",
        "outputId": "06565d62-adec-4b16-98e2-9e576bf71d9e",
        "colab": {
          "base_uri": "https://localhost:8080/"
        }
      },
      "execution_count": 1,
      "outputs": [
        {
          "output_type": "stream",
          "name": "stdout",
          "text": [
            "\u001b[2K     \u001b[90m━━━━━━━━━━━━━━━━━━━━━━━━━━━━━━━━━━━━━━━━\u001b[0m \u001b[32m91.2/91.2 kB\u001b[0m \u001b[31m3.0 MB/s\u001b[0m eta \u001b[36m0:00:00\u001b[0m\n",
            "\u001b[2K   \u001b[90m━━━━━━━━━━━━━━━━━━━━━━━━━━━━━━━━━━━━━━━━\u001b[0m \u001b[32m20.5/20.5 MB\u001b[0m \u001b[31m80.1 MB/s\u001b[0m eta \u001b[36m0:00:00\u001b[0m\n",
            "\u001b[2K   \u001b[90m━━━━━━━━━━━━━━━━━━━━━━━━━━━━━━━━━━━━━━━━\u001b[0m \u001b[32m49.7/49.7 kB\u001b[0m \u001b[31m2.2 MB/s\u001b[0m eta \u001b[36m0:00:00\u001b[0m\n",
            "\u001b[2K   \u001b[90m━━━━━━━━━━━━━━━━━━━━━━━━━━━━━━━━━━━━━━━━\u001b[0m \u001b[32m3.3/3.3 MB\u001b[0m \u001b[31m64.3 MB/s\u001b[0m eta \u001b[36m0:00:00\u001b[0m\n",
            "\u001b[2K   \u001b[90m━━━━━━━━━━━━━━━━━━━━━━━━━━━━━━━━━━━━━━━━\u001b[0m \u001b[32m95.1/95.1 kB\u001b[0m \u001b[31m5.6 MB/s\u001b[0m eta \u001b[36m0:00:00\u001b[0m\n",
            "\u001b[2K   \u001b[90m━━━━━━━━━━━━━━━━━━━━━━━━━━━━━━━━━━━━━━━━\u001b[0m \u001b[32m12.4/12.4 MB\u001b[0m \u001b[31m100.4 MB/s\u001b[0m eta \u001b[36m0:00:00\u001b[0m\n",
            "\u001b[2K   \u001b[90m━━━━━━━━━━━━━━━━━━━━━━━━━━━━━━━━━━━━━━━━\u001b[0m \u001b[32m192.8/192.8 kB\u001b[0m \u001b[31m9.9 MB/s\u001b[0m eta \u001b[36m0:00:00\u001b[0m\n",
            "\u001b[2K   \u001b[90m━━━━━━━━━━━━━━━━━━━━━━━━━━━━━━━━━━━━━━━━\u001b[0m \u001b[32m1.6/1.6 MB\u001b[0m \u001b[31m44.6 MB/s\u001b[0m eta \u001b[36m0:00:00\u001b[0m\n",
            "\u001b[2K   \u001b[90m━━━━━━━━━━━━━━━━━━━━━━━━━━━━━━━━━━━━━━━━\u001b[0m \u001b[32m137.3/137.3 kB\u001b[0m \u001b[31m7.3 MB/s\u001b[0m eta \u001b[36m0:00:00\u001b[0m\n",
            "\u001b[?25h\u001b[31mERROR: pip's dependency resolver does not currently take into account all the packages that are installed. This behaviour is the source of the following dependency conflicts.\n",
            "google-colab 1.0.0 requires pandas==2.2.2, but you have pandas 2.3.3 which is incompatible.\n",
            "dask-cudf-cu12 25.6.0 requires pandas<2.2.4dev0,>=2.0, but you have pandas 2.3.3 which is incompatible.\n",
            "cudf-cu12 25.6.0 requires pandas<2.2.4dev0,>=2.0, but you have pandas 2.3.3 which is incompatible.\u001b[0m\u001b[31m\n",
            "\u001b[0mRepo ready at: /content/Graves_Greenery_Analysis\n",
            "CSV root: /content/Graves_Greenery_Analysis/data\n"
          ]
        }
      ],
      "source": [
        "!pip -q install --upgrade duckdb duckdb-engine \"sqlalchemy>=2.0\" ipython-sql jupysql pandas\n",
        "\n",
        "import os, subprocess\n",
        "REPO_USER = \"danielsgraves\"                 # <-- repo owner\n",
        "REPO_NAME = \"Graves_Greenery_Analysis\"     # <-- repo name\n",
        "REPO_DIR  = f\"/content/{REPO_NAME}\"\n",
        "\n",
        "if not os.path.exists(REPO_DIR):\n",
        "    subprocess.run(\n",
        "        f\"git clone --depth 1 https://github.com/{REPO_USER}/{REPO_NAME}.git {REPO_DIR}\",\n",
        "        shell=True, check=True\n",
        "    )\n",
        "else:\n",
        "    subprocess.run(f\"git -C {REPO_DIR} pull --ff-only\", shell=True, check=True)\n",
        "\n",
        "print(\"Repo ready at:\", REPO_DIR)\n",
        "print(\"CSV root:\", f\"{REPO_DIR}/data\")"
      ],
      "id": "mu_JZK-x7zqT"
    },
    {
      "cell_type": "markdown",
      "metadata": {
        "id": "4y9LgUbo7zqT"
      },
      "source": [
        "### 2) Connect a single in-memory DuckDB session for `%%sql`"
      ],
      "id": "4y9LgUbo7zqT"
    },
    {
      "cell_type": "code",
      "metadata": {
        "id": "wu1k-5mW7zqU",
        "outputId": "4795c633-6069-47a8-b727-34132a233334",
        "colab": {
          "base_uri": "https://localhost:8080/"
        }
      },
      "execution_count": 2,
      "outputs": [
        {
          "output_type": "stream",
          "name": "stdout",
          "text": [
            "✅ Connected %sql to in-memory DuckDB.\n"
          ]
        }
      ],
      "source": [
        "%reload_ext sql\n",
        "%config SqlMagic.autopandas = False    # PrettyTable output (set True for DataFrame)\n",
        "%config SqlMagic.feedback = False\n",
        "%sql duckdb:///:memory:\n",
        "print(\"✅ Connected %sql to in-memory DuckDB.\")"
      ],
      "id": "wu1k-5mW7zqU"
    },
    {
      "cell_type": "markdown",
      "metadata": {
        "id": "G2gzsT8j7zqU"
      },
      "source": [
        "### 3) Load all CSVs → tables (names match file stems)"
      ],
      "id": "G2gzsT8j7zqU"
    },
    {
      "cell_type": "code",
      "metadata": {
        "id": "pQzLNxBB7zqU",
        "outputId": "2baad5f2-d25f-48e3-c360-817d82ab3a5d",
        "colab": {
          "base_uri": "https://localhost:8080/"
        }
      },
      "execution_count": 3,
      "outputs": [
        {
          "output_type": "stream",
          "name": "stdout",
          "text": [
            "Found 14 CSV(s). Showing first 15 mappings…\n",
            "  data/dim_dates.csv  →  dim_dates\n",
            "  data/dim_plant_category.csv  →  dim_plant_category\n",
            "  data/dim_inventory.csv  →  dim_inventory\n",
            "  data/dim_customers_clean.csv  →  dim_customers_clean\n",
            "  data/fact_returns.csv  →  fact_returns\n",
            "  data/fact_order_promotions.csv  →  fact_order_promotions\n",
            "  data/dim_return_reason.csv  →  dim_return_reason\n",
            "  data/fact_order_items.csv  →  fact_order_items\n",
            "  data/dim_locations.csv  →  dim_locations\n",
            "  data/dim_promotions.csv  →  dim_promotions\n",
            "  data/dim_customers.csv  →  dim_customers\n",
            "  data/graves_greenery_full_denormalized.csv  →  graves_greenery_full_denormalized\n",
            "  data/dim_plants.csv  →  dim_plants\n",
            "  data/fact_orders.csv  →  fact_orders\n",
            "Loaded tables (first few): ['dim_dates', 'dim_plant_category', 'dim_inventory', 'dim_customers_clean', 'fact_returns', 'fact_order_promotions', 'dim_return_reason', 'fact_order_items']\n"
          ]
        }
      ],
      "source": [
        "import os, re, glob\n",
        "from pathlib import Path\n",
        "\n",
        "CSV_GLOB = \"data/**/*.[cC][sS][vV]\"   # case-insensitive .csv\n",
        "INCLUDE_PARENT_PREFIX = False          # True → prefix parent folder: e.g., sales_dim_customers\n",
        "\n",
        "def to_snake(name: str) -> str:\n",
        "    s = re.sub(r\"[^0-9a-zA-Z]+\", \"_\", name).strip(\"_\")\n",
        "    s = re.sub(r\"_+\", \"_\", s)\n",
        "    if s and s[0].isdigit():\n",
        "        s = \"t_\" + s\n",
        "    return s.lower()\n",
        "\n",
        "def table_name_for(csv_path: Path) -> str:\n",
        "    stem = csv_path.stem\n",
        "    if INCLUDE_PARENT_PREFIX and csv_path.parent != csv_path.parent.parent:\n",
        "        return to_snake(csv_path.parent.name + \"_\" + stem)\n",
        "    return to_snake(stem)\n",
        "\n",
        "files = [Path(p) for p in glob.glob(os.path.join(REPO_DIR, CSV_GLOB), recursive=True)]\n",
        "files = [p for p in files if p.is_file()]\n",
        "print(f\"Found {len(files)} CSV(s). Showing first 15 mappings…\")\n",
        "for rel, tbl in [(str(p.relative_to(REPO_DIR)), table_name_for(p)) for p in files[:15]]:\n",
        "    print(f\"  {rel}  →  {tbl}\")\n",
        "\n",
        "# Create tables via the same %sql connection (no secondary connections)\n",
        "for p in files:\n",
        "    tbl = table_name_for(p)\n",
        "    q = f\"\"\"\n",
        "    CREATE OR REPLACE TABLE \"{tbl}\" AS\n",
        "    SELECT * FROM read_csv_auto('{str(p)}', header=True, sample_size=-1, ignore_errors=True);\n",
        "    \"\"\"\n",
        "    get_ipython().run_cell_magic('sql', '', q)\n",
        "\n",
        "print(\"Loaded tables (first few):\", [table_name_for(p) for p in files[:8]])"
      ],
      "id": "pQzLNxBB7zqU"
    },
    {
      "cell_type": "markdown",
      "metadata": {
        "id": "Ib-SAakV7zqU"
      },
      "source": [
        "### 4) Verify & sample\n",
        "_If your repo has `data/**/dim_customers.csv`, the table will be **`dim_customers`**._"
      ],
      "id": "Ib-SAakV7zqU"
    },
    {
      "cell_type": "code",
      "source": [
        "# Remove displaylimit\n",
        "%config SqlMagic.displaylimit = None"
      ],
      "metadata": {
        "id": "n3R6NBne9Usp",
        "outputId": "82535d48-d62e-4d89-f56b-e953e1dba730",
        "colab": {
          "base_uri": "https://localhost:8080/",
          "height": 0
        }
      },
      "id": "n3R6NBne9Usp",
      "execution_count": 4,
      "outputs": [
        {
          "output_type": "display_data",
          "data": {
            "text/plain": [
              "displaylimit: Value None will be treated as 0 (no limit)"
            ],
            "text/html": [
              "<span style=\"None\">displaylimit: Value None will be treated as 0 (no limit)</span>"
            ]
          },
          "metadata": {}
        }
      ]
    },
    {
      "cell_type": "code",
      "metadata": {
        "id": "XhNd1cr_7zqU",
        "outputId": "da9418ad-5d66-4970-f776-272045cc5f69",
        "colab": {
          "base_uri": "https://localhost:8080/",
          "height": 0
        }
      },
      "execution_count": 5,
      "outputs": [
        {
          "output_type": "execute_result",
          "data": {
            "text/plain": [
              "+-----------------------------------+\n",
              "|             table_name            |\n",
              "+-----------------------------------+\n",
              "|           dim_customers           |\n",
              "|        dim_customers_clean        |\n",
              "|             dim_dates             |\n",
              "|           dim_inventory           |\n",
              "|           dim_locations           |\n",
              "|         dim_plant_category        |\n",
              "|             dim_plants            |\n",
              "|           dim_promotions          |\n",
              "|         dim_return_reason         |\n",
              "|          fact_order_items         |\n",
              "|       fact_order_promotions       |\n",
              "|            fact_orders            |\n",
              "|            fact_returns           |\n",
              "| graves_greenery_full_denormalized |\n",
              "+-----------------------------------+"
            ],
            "text/html": [
              "<table>\n",
              "    <thead>\n",
              "        <tr>\n",
              "            <th>table_name</th>\n",
              "        </tr>\n",
              "    </thead>\n",
              "    <tbody>\n",
              "        <tr>\n",
              "            <td>dim_customers</td>\n",
              "        </tr>\n",
              "        <tr>\n",
              "            <td>dim_customers_clean</td>\n",
              "        </tr>\n",
              "        <tr>\n",
              "            <td>dim_dates</td>\n",
              "        </tr>\n",
              "        <tr>\n",
              "            <td>dim_inventory</td>\n",
              "        </tr>\n",
              "        <tr>\n",
              "            <td>dim_locations</td>\n",
              "        </tr>\n",
              "        <tr>\n",
              "            <td>dim_plant_category</td>\n",
              "        </tr>\n",
              "        <tr>\n",
              "            <td>dim_plants</td>\n",
              "        </tr>\n",
              "        <tr>\n",
              "            <td>dim_promotions</td>\n",
              "        </tr>\n",
              "        <tr>\n",
              "            <td>dim_return_reason</td>\n",
              "        </tr>\n",
              "        <tr>\n",
              "            <td>fact_order_items</td>\n",
              "        </tr>\n",
              "        <tr>\n",
              "            <td>fact_order_promotions</td>\n",
              "        </tr>\n",
              "        <tr>\n",
              "            <td>fact_orders</td>\n",
              "        </tr>\n",
              "        <tr>\n",
              "            <td>fact_returns</td>\n",
              "        </tr>\n",
              "        <tr>\n",
              "            <td>graves_greenery_full_denormalized</td>\n",
              "        </tr>\n",
              "    </tbody>\n",
              "</table>"
            ]
          },
          "metadata": {},
          "execution_count": 5
        }
      ],
      "source": [
        "%%sql\n",
        "SELECT table_name\n",
        "FROM information_schema.tables\n",
        "WHERE table_schema='main'\n",
        "ORDER BY table_name;"
      ],
      "id": "XhNd1cr_7zqU"
    },
    {
      "cell_type": "code",
      "metadata": {
        "id": "AxEPCgr27zqV",
        "outputId": "ba4cba3f-3969-4809-ade6-52b24c6d5788",
        "colab": {
          "base_uri": "https://localhost:8080/",
          "height": 0
        }
      },
      "execution_count": 6,
      "outputs": [
        {
          "output_type": "execute_result",
          "data": {
            "text/plain": [
              "+-------------+------------+-----------+-----------------------------+----------------+----------------+----------+-------------+----------------+-------------+---------+---------------------+------------------+--------------+----------------+\n",
              "| customer_id | first_name | last_name |            email            |     phone      |    address1    | address2 |     city    | state_province | postal_code | country |      signup_ts      | marketing_opt_in | loyalty_tier | source_channel |\n",
              "+-------------+------------+-----------+-----------------------------+----------------+----------------+----------+-------------+----------------+-------------+---------+---------------------+------------------+--------------+----------------+\n",
              "|      1      |   Lucas    | Johansson | LUCAS.JOHANSSON@HOTMAIL.COM | (426) 633-9078 | 8537 Poplar Rd |   None   |   Edmonton  |       AB       |   T5G 3K7   |  Canada | 2022-01-28 19:12:45 |       TRUE       |    Green     |    In-Store    |\n",
              "|      2      |   karim    | kobayashi |     kkobayashi@gmail.com    | (550) 746-9092 | 1768 Myrtle Ln |   None   | Minneapolis |       MN       |    55739    |   USA   | 2025-03-29 09:41:07 |       TRUE       |   Emerald    |     Online     |\n",
              "+-------------+------------+-----------+-----------------------------+----------------+----------------+----------+-------------+----------------+-------------+---------+---------------------+------------------+--------------+----------------+"
            ],
            "text/html": [
              "<table>\n",
              "    <thead>\n",
              "        <tr>\n",
              "            <th>customer_id</th>\n",
              "            <th>first_name</th>\n",
              "            <th>last_name</th>\n",
              "            <th>email</th>\n",
              "            <th>phone</th>\n",
              "            <th>address1</th>\n",
              "            <th>address2</th>\n",
              "            <th>city</th>\n",
              "            <th>state_province</th>\n",
              "            <th>postal_code</th>\n",
              "            <th>country</th>\n",
              "            <th>signup_ts</th>\n",
              "            <th>marketing_opt_in</th>\n",
              "            <th>loyalty_tier</th>\n",
              "            <th>source_channel</th>\n",
              "        </tr>\n",
              "    </thead>\n",
              "    <tbody>\n",
              "        <tr>\n",
              "            <td>1</td>\n",
              "            <td>Lucas</td>\n",
              "            <td>Johansson</td>\n",
              "            <td>LUCAS.JOHANSSON@HOTMAIL.COM</td>\n",
              "            <td>(426) 633-9078</td>\n",
              "            <td>8537 Poplar Rd</td>\n",
              "            <td>None</td>\n",
              "            <td>Edmonton</td>\n",
              "            <td>AB</td>\n",
              "            <td>T5G 3K7</td>\n",
              "            <td>Canada</td>\n",
              "            <td>2022-01-28 19:12:45</td>\n",
              "            <td>TRUE</td>\n",
              "            <td>Green</td>\n",
              "            <td>In-Store</td>\n",
              "        </tr>\n",
              "        <tr>\n",
              "            <td>2</td>\n",
              "            <td>karim</td>\n",
              "            <td>kobayashi</td>\n",
              "            <td>kkobayashi@gmail.com</td>\n",
              "            <td>(550) 746-9092</td>\n",
              "            <td>1768 Myrtle Ln</td>\n",
              "            <td>None</td>\n",
              "            <td>Minneapolis</td>\n",
              "            <td>MN</td>\n",
              "            <td>55739</td>\n",
              "            <td>USA</td>\n",
              "            <td>2025-03-29 09:41:07</td>\n",
              "            <td>TRUE</td>\n",
              "            <td>Emerald</td>\n",
              "            <td>Online</td>\n",
              "        </tr>\n",
              "    </tbody>\n",
              "</table>"
            ]
          },
          "metadata": {},
          "execution_count": 6
        }
      ],
      "source": [
        "%%sql\n",
        "SELECT *\n",
        "FROM dim_customers\n",
        "LIMIT 2;"
      ],
      "id": "AxEPCgr27zqV"
    },
    {
      "cell_type": "markdown",
      "metadata": {
        "id": "IWK88Gn97zqV"
      },
      "source": [
        "# Project Overview"
      ],
      "id": "IWK88Gn97zqV"
    },
    {
      "cell_type": "markdown",
      "metadata": {
        "id": "EWX7U1FU7zqV"
      },
      "source": [
        "# Problem Statement"
      ],
      "id": "EWX7U1FU7zqV"
    },
    {
      "cell_type": "markdown",
      "metadata": {
        "id": "qmdVzytF7zqV"
      },
      "source": [
        "# Data Cleaning and Preparation"
      ],
      "id": "qmdVzytF7zqV"
    },
    {
      "cell_type": "markdown",
      "source": [
        "---\n",
        "Clean & trim columns from dim_customers table and create cleaned view\n",
        "---"
      ],
      "metadata": {
        "id": "We9kSsgSE9d1"
      },
      "id": "We9kSsgSE9d1"
    },
    {
      "cell_type": "code",
      "source": [
        "%%sql\n",
        "CREATE OR REPLACE VIEW dim_customers_cleaned AS\n",
        "SELECT\n",
        "                customer_id\n",
        "              , CONCAT(UPPER(LEFT(TRIM(first_name),1)), LOWER(SUBSTRING(TRIM(first_name), 2))) AS first_name -- Normalized first name\n",
        "              , CONCAT(UPPER(LEFT(TRIM(last_name),1)), LOWER(SUBSTRING(TRIM(last_name), 2))) AS last_name -- Normalized first name\n",
        "              , TRIM(LOWER(email)) AS email\n",
        "              , CASE        -- Removes all non-numeric characters, country code & formats phone column\n",
        "                        WHEN LENGTH(regexp_replace(phone, '[^0-9]', '', 'g')) = 11 AND LEFT(regexp_replace(phone, '[^0-9]', '', 'g'), 1) = '1'\n",
        "                        THEN regexp_replace(SUBSTRING(regexp_replace(phone, '[^0-9]', '', 'g'), 2), '(\\d{3})(\\d{3})(\\d{4})', '(\\1) \\2-\\3')\n",
        "                        WHEN LENGTH(regexp_replace(phone, '[^0-9]', '', 'g')) = 10\n",
        "                        THEN regexp_replace(regexp_replace(phone, '[^0-9]', '', 'g'), '(\\d{3})(\\d{3})(\\d{4})', '(\\1) \\2-\\3')\n",
        "                        ELSE regexp_replace(phone, '[^0-9]', '', 'g')\n",
        "                END AS phone\n",
        "              , TRIM(UPPER(address1)) AS address1\n",
        "              , address2\n",
        "              , CONCAT(UPPER(LEFT(TRIM(city),1)), LOWER(SUBSTRING(TRIM(city), 2))) AS city -- Normalized city\n",
        "              , state_province\n",
        "              , postal_code\n",
        "              , country\n",
        "              , signup_ts\n",
        "              , marketing_opt_in\n",
        "              , loyalty_tier\n",
        "              , source_channel\n",
        "\n",
        "FROM\n",
        "                dim_customers"
      ],
      "metadata": {
        "colab": {
          "base_uri": "https://localhost:8080/",
          "height": 40
        },
        "id": "P1hwD5SWAvLn",
        "outputId": "6033ebc5-9485-4fa5-a4ac-308530fed8be"
      },
      "id": "P1hwD5SWAvLn",
      "execution_count": 7,
      "outputs": [
        {
          "output_type": "execute_result",
          "data": {
            "text/plain": [
              "+-------+\n",
              "| Count |\n",
              "+-------+\n",
              "+-------+"
            ],
            "text/html": [
              "<table>\n",
              "    <thead>\n",
              "        <tr>\n",
              "            <th>Count</th>\n",
              "        </tr>\n",
              "    </thead>\n",
              "    <tbody>\n",
              "    </tbody>\n",
              "</table>"
            ]
          },
          "metadata": {},
          "execution_count": 7
        }
      ]
    },
    {
      "cell_type": "code",
      "source": [
        "%%sql\n",
        "SELECT      email\n",
        "            , CASE\n",
        "                WHEN\n",
        "                      LOWER(email)\n",
        "                LIKE\n",
        "                      '%gmail.com'\n",
        "                AND\n",
        "                      LOWER(email)\n",
        "                NOT LIKE\n",
        "                      '%@gmail.com'\n",
        "                THEN\n",
        "                      REPLACE(LOWER(email), 'gmail.com', '@gmail.com')\n",
        "                ELSE\n",
        "                      LOWER(email)\n",
        "              END AS email_cleaned\n",
        "\n",
        "FROM\n",
        "      dim_customers\n",
        "WHERE email NOT LIKE '%@%'"
      ],
      "metadata": {
        "colab": {
          "base_uri": "https://localhost:8080/",
          "height": 1000
        },
        "id": "khW65oQGK5DE",
        "outputId": "abe507a9-4c39-49b2-8fce-b6d4ea560228"
      },
      "id": "khW65oQGK5DE",
      "execution_count": 23,
      "outputs": [
        {
          "output_type": "execute_result",
          "data": {
            "text/plain": [
              "+--------------------------------+--------------------------------+\n",
              "|             email              |         email_cleaned          |\n",
              "+--------------------------------+--------------------------------+\n",
              "|     MICHAELMORI6378AOL.COM     |     michaelmori6378aol.com     |\n",
              "|      imran_costayahoo.com      |      imran_costayahoo.com      |\n",
              "|     sharma.neel5972aol.com     |     sharma.neel5972aol.com     |\n",
              "|   khalil.singh8115yahoo.com    |   khalil.singh8115yahoo.com    |\n",
              "|   nakamura.rohanhotmail.com    |   nakamura.rohanhotmail.com    |\n",
              "|       lucia_kauraol.com        |       lucia_kauraol.com        |\n",
              "|       hassanitogmail.com       |      hassanito@gmail.com       |\n",
              "|     davis.danielyahoo.com      |     davis.danielyahoo.com      |\n",
              "|     amariiyer5124gmail.com     |    amariiyer5124@gmail.com     |\n",
              "|      yurilambertyahoo.com      |      yurilambertyahoo.com      |\n",
              "|     elijahsuzukigmail.com      |     elijahsuzuki@gmail.com     |\n",
              "|      JOSÉ.MORIICLOUD.COM       |      josé.moriicloud.com       |\n",
              "|       cmartin icloud.com       |       cmartin icloud.com       |\n",
              "|     arakaur7467icloud.com      |     arakaur7467icloud.com      |\n",
              "|     lucas.whitehotmail.com     |     lucas.whitehotmail.com     |\n",
              "|       eito5612gmail.com        |       eito5612@gmail.com       |\n",
              "|    sanchez.talia8945aol.com    |    sanchez.talia8945aol.com    |\n",
              "|    harper.santos7863aol.com    |    harper.santos7863aol.com    |\n",
              "|      olivialeeoutlook.com      |      olivialeeoutlook.com      |\n",
              "|       chloé_itoyahoo.com       |       chloé_itoyahoo.com       |\n",
              "| anjali_mooregravesgreenery.com | anjali_mooregravesgreenery.com |\n",
              "|        dfujitagmail.com        |       dfujita@gmail.com        |\n",
              "|     zpetrov9323outlook.com     |     zpetrov9323outlook.com     |\n",
              "|       dae_santosaol.com        |       dae_santosaol.com        |\n",
              "|     chloé_kaurhotmail.com      |     chloé_kaurhotmail.com      |\n",
              "|      marco_pereiraaol.com      |      marco_pereiraaol.com      |\n",
              "|      emily.almeidaaol.com      |      emily.almeidaaol.com      |\n",
              "|     DANIEL_GARCIAGMAIL.COM     |    daniel_garcia@gmail.com     |\n",
              "|    suzuki.isabellaproton.me    |    suzuki.isabellaproton.me    |\n",
              "|    avery.martinezproton.me     |    avery.martinezproton.me     |\n",
              "|    farah_santos8880aol.com     |    farah_santos8880aol.com     |\n",
              "|     adesai7157hotmail.com      |     adesai7157hotmail.com      |\n",
              "|   dubois.nadia5940gmail.com    |   dubois.nadia5940@gmail.com   |\n",
              "|   omarhernandez2461yahoo.com   |   omarhernandez2461yahoo.com   |\n",
              "|      mpopov6997gmail.com       |      mpopov6997@gmail.com      |\n",
              "|      asmirnovhotmail.com       |      asmirnovhotmail.com       |\n",
              "|       mira.duboisaol.com       |       mira.duboisaol.com       |\n",
              "|   valentina.fujitayahoo.com    |   valentina.fujitayahoo.com    |\n",
              "|    marcoferreirahotmail.com    |    marcoferreirahotmail.com    |\n",
              "|    freya_watanabegmail.com     |    freya_watanabe@gmail.com    |\n",
              "|    davis.eun5647outlook.com    |    davis.eun5647outlook.com    |\n",
              "|    talia_clark2284proton.me    |    talia_clark2284proton.me    |\n",
              "| van den berg.oliverhotmail.com | van den berg.oliverhotmail.com |\n",
              "|    ŁUKASZ_IYER2595GMAIL.COM    |   łukasz_iyer2595@gmail.com    |\n",
              "| CHARLOTTE_SINGH3395HOTMAIL.COM | charlotte_singh3395hotmail.com |\n",
              "|       zoë_parkyahoo.com        |       zoë_parkyahoo.com        |\n",
              "|  sebastian_martinezyahoo.com   |  sebastian_martinezyahoo.com   |\n",
              "+--------------------------------+--------------------------------+"
            ],
            "text/html": [
              "<table>\n",
              "    <thead>\n",
              "        <tr>\n",
              "            <th>email</th>\n",
              "            <th>email_cleaned</th>\n",
              "        </tr>\n",
              "    </thead>\n",
              "    <tbody>\n",
              "        <tr>\n",
              "            <td>MICHAELMORI6378AOL.COM</td>\n",
              "            <td>michaelmori6378aol.com</td>\n",
              "        </tr>\n",
              "        <tr>\n",
              "            <td>imran_costayahoo.com</td>\n",
              "            <td>imran_costayahoo.com</td>\n",
              "        </tr>\n",
              "        <tr>\n",
              "            <td>sharma.neel5972aol.com</td>\n",
              "            <td>sharma.neel5972aol.com</td>\n",
              "        </tr>\n",
              "        <tr>\n",
              "            <td>khalil.singh8115yahoo.com</td>\n",
              "            <td>khalil.singh8115yahoo.com</td>\n",
              "        </tr>\n",
              "        <tr>\n",
              "            <td>nakamura.rohanhotmail.com</td>\n",
              "            <td>nakamura.rohanhotmail.com</td>\n",
              "        </tr>\n",
              "        <tr>\n",
              "            <td>lucia_kauraol.com</td>\n",
              "            <td>lucia_kauraol.com</td>\n",
              "        </tr>\n",
              "        <tr>\n",
              "            <td>hassanitogmail.com</td>\n",
              "            <td>hassanito@gmail.com</td>\n",
              "        </tr>\n",
              "        <tr>\n",
              "            <td>davis.danielyahoo.com</td>\n",
              "            <td>davis.danielyahoo.com</td>\n",
              "        </tr>\n",
              "        <tr>\n",
              "            <td>amariiyer5124gmail.com</td>\n",
              "            <td>amariiyer5124@gmail.com</td>\n",
              "        </tr>\n",
              "        <tr>\n",
              "            <td>yurilambertyahoo.com</td>\n",
              "            <td>yurilambertyahoo.com</td>\n",
              "        </tr>\n",
              "        <tr>\n",
              "            <td>elijahsuzukigmail.com</td>\n",
              "            <td>elijahsuzuki@gmail.com</td>\n",
              "        </tr>\n",
              "        <tr>\n",
              "            <td>JOSÉ.MORIICLOUD.COM</td>\n",
              "            <td>josé.moriicloud.com</td>\n",
              "        </tr>\n",
              "        <tr>\n",
              "            <td>cmartin icloud.com</td>\n",
              "            <td>cmartin icloud.com</td>\n",
              "        </tr>\n",
              "        <tr>\n",
              "            <td>arakaur7467icloud.com</td>\n",
              "            <td>arakaur7467icloud.com</td>\n",
              "        </tr>\n",
              "        <tr>\n",
              "            <td>lucas.whitehotmail.com</td>\n",
              "            <td>lucas.whitehotmail.com</td>\n",
              "        </tr>\n",
              "        <tr>\n",
              "            <td>eito5612gmail.com</td>\n",
              "            <td>eito5612@gmail.com</td>\n",
              "        </tr>\n",
              "        <tr>\n",
              "            <td>sanchez.talia8945aol.com</td>\n",
              "            <td>sanchez.talia8945aol.com</td>\n",
              "        </tr>\n",
              "        <tr>\n",
              "            <td>harper.santos7863aol.com</td>\n",
              "            <td>harper.santos7863aol.com</td>\n",
              "        </tr>\n",
              "        <tr>\n",
              "            <td>olivialeeoutlook.com</td>\n",
              "            <td>olivialeeoutlook.com</td>\n",
              "        </tr>\n",
              "        <tr>\n",
              "            <td>chloé_itoyahoo.com</td>\n",
              "            <td>chloé_itoyahoo.com</td>\n",
              "        </tr>\n",
              "        <tr>\n",
              "            <td>anjali_mooregravesgreenery.com</td>\n",
              "            <td>anjali_mooregravesgreenery.com</td>\n",
              "        </tr>\n",
              "        <tr>\n",
              "            <td>dfujitagmail.com</td>\n",
              "            <td>dfujita@gmail.com</td>\n",
              "        </tr>\n",
              "        <tr>\n",
              "            <td>zpetrov9323outlook.com</td>\n",
              "            <td>zpetrov9323outlook.com</td>\n",
              "        </tr>\n",
              "        <tr>\n",
              "            <td>dae_santosaol.com</td>\n",
              "            <td>dae_santosaol.com</td>\n",
              "        </tr>\n",
              "        <tr>\n",
              "            <td>chloé_kaurhotmail.com</td>\n",
              "            <td>chloé_kaurhotmail.com</td>\n",
              "        </tr>\n",
              "        <tr>\n",
              "            <td>marco_pereiraaol.com</td>\n",
              "            <td>marco_pereiraaol.com</td>\n",
              "        </tr>\n",
              "        <tr>\n",
              "            <td>emily.almeidaaol.com</td>\n",
              "            <td>emily.almeidaaol.com</td>\n",
              "        </tr>\n",
              "        <tr>\n",
              "            <td>DANIEL_GARCIAGMAIL.COM</td>\n",
              "            <td>daniel_garcia@gmail.com</td>\n",
              "        </tr>\n",
              "        <tr>\n",
              "            <td>suzuki.isabellaproton.me</td>\n",
              "            <td>suzuki.isabellaproton.me</td>\n",
              "        </tr>\n",
              "        <tr>\n",
              "            <td>avery.martinezproton.me</td>\n",
              "            <td>avery.martinezproton.me</td>\n",
              "        </tr>\n",
              "        <tr>\n",
              "            <td>farah_santos8880aol.com</td>\n",
              "            <td>farah_santos8880aol.com</td>\n",
              "        </tr>\n",
              "        <tr>\n",
              "            <td>adesai7157hotmail.com</td>\n",
              "            <td>adesai7157hotmail.com</td>\n",
              "        </tr>\n",
              "        <tr>\n",
              "            <td>dubois.nadia5940gmail.com</td>\n",
              "            <td>dubois.nadia5940@gmail.com</td>\n",
              "        </tr>\n",
              "        <tr>\n",
              "            <td>omarhernandez2461yahoo.com</td>\n",
              "            <td>omarhernandez2461yahoo.com</td>\n",
              "        </tr>\n",
              "        <tr>\n",
              "            <td>mpopov6997gmail.com</td>\n",
              "            <td>mpopov6997@gmail.com</td>\n",
              "        </tr>\n",
              "        <tr>\n",
              "            <td>asmirnovhotmail.com</td>\n",
              "            <td>asmirnovhotmail.com</td>\n",
              "        </tr>\n",
              "        <tr>\n",
              "            <td>mira.duboisaol.com</td>\n",
              "            <td>mira.duboisaol.com</td>\n",
              "        </tr>\n",
              "        <tr>\n",
              "            <td>valentina.fujitayahoo.com</td>\n",
              "            <td>valentina.fujitayahoo.com</td>\n",
              "        </tr>\n",
              "        <tr>\n",
              "            <td>marcoferreirahotmail.com</td>\n",
              "            <td>marcoferreirahotmail.com</td>\n",
              "        </tr>\n",
              "        <tr>\n",
              "            <td>freya_watanabegmail.com</td>\n",
              "            <td>freya_watanabe@gmail.com</td>\n",
              "        </tr>\n",
              "        <tr>\n",
              "            <td>davis.eun5647outlook.com</td>\n",
              "            <td>davis.eun5647outlook.com</td>\n",
              "        </tr>\n",
              "        <tr>\n",
              "            <td>talia_clark2284proton.me</td>\n",
              "            <td>talia_clark2284proton.me</td>\n",
              "        </tr>\n",
              "        <tr>\n",
              "            <td>van den berg.oliverhotmail.com</td>\n",
              "            <td>van den berg.oliverhotmail.com</td>\n",
              "        </tr>\n",
              "        <tr>\n",
              "            <td>ŁUKASZ_IYER2595GMAIL.COM</td>\n",
              "            <td>łukasz_iyer2595@gmail.com</td>\n",
              "        </tr>\n",
              "        <tr>\n",
              "            <td>CHARLOTTE_SINGH3395HOTMAIL.COM</td>\n",
              "            <td>charlotte_singh3395hotmail.com</td>\n",
              "        </tr>\n",
              "        <tr>\n",
              "            <td>zoë_parkyahoo.com</td>\n",
              "            <td>zoë_parkyahoo.com</td>\n",
              "        </tr>\n",
              "        <tr>\n",
              "            <td>sebastian_martinezyahoo.com</td>\n",
              "            <td>sebastian_martinezyahoo.com</td>\n",
              "        </tr>\n",
              "    </tbody>\n",
              "</table>"
            ]
          },
          "metadata": {},
          "execution_count": 23
        }
      ]
    },
    {
      "cell_type": "markdown",
      "source": [
        "---\n",
        "Dedupe customers table\n",
        "---"
      ],
      "metadata": {
        "id": "to7PIz-5FYs5"
      },
      "id": "to7PIz-5FYs5"
    },
    {
      "cell_type": "code",
      "source": [
        "%%sql\n",
        "WITH duplicates AS (SELECT\n",
        "                    first_name\n",
        "                  , last_name\n",
        "                  , city\n",
        "                  , COUNT(*) AS duplicate_count\n",
        "FROM\n",
        "                    dim_customers\n",
        "GROUP BY\n",
        "                    first_name\n",
        "                  , last_name\n",
        "                  , city\n",
        "HAVING\n",
        "                    count(*) > 1\n",
        ")\n",
        "\n",
        "SELECT\n",
        "          dc.*\n",
        "FROM\n",
        "          dim_customers dc\n",
        "  JOIN\n",
        "          duplicates d ON\n",
        "              dc.first_name = d.first_name AND\n",
        "              dc.last_name = d.last_name AND\n",
        "              dc.city = d.city\n",
        "ORDER BY\n",
        "          dc.first_name\n",
        "        , dc.last_name\n",
        "        , dc.city"
      ],
      "metadata": {
        "colab": {
          "base_uri": "https://localhost:8080/",
          "height": 118
        },
        "id": "Fi1s6KeAFmhR",
        "outputId": "8f284ec2-6435-4e16-e33d-982f102fba39"
      },
      "id": "Fi1s6KeAFmhR",
      "execution_count": 10,
      "outputs": [
        {
          "output_type": "execute_result",
          "data": {
            "text/plain": [
              "+-------------+------------+-----------+---------------------------------+----------------+---------------+----------+--------+----------------+-------------+---------+---------------------+------------------+--------------+----------------+\n",
              "| customer_id | first_name | last_name |              email              |     phone      |    address1   | address2 |  city  | state_province | postal_code | country |      signup_ts      | marketing_opt_in | loyalty_tier | source_channel |\n",
              "+-------------+------------+-----------+---------------------------------+----------------+---------------+----------+--------+----------------+-------------+---------+---------------------+------------------+--------------+----------------+\n",
              "|     7155    | Sebastian  |  Sanchez  | sanchez.sebastian5071@gmail.com | (745) 741-2684 | 2961 Cedar Ln |   None   | Albany |       NY       |    122881   |   USA   | 2024-01-29 00:36:07 |      FALSE       |     Gold     |    In-Store    |\n",
              "|     9191    | Sebastian  |  Sanchez  |      ssanchez2929@gmail.com     | (688) 860-7293 |  7488 Elm Rd  |   None   | Albany |       NY       |    15367    |   USA   | 2022-12-06 01:19:40 |       TRUE       |    Silver    |    In-Store    |\n",
              "+-------------+------------+-----------+---------------------------------+----------------+---------------+----------+--------+----------------+-------------+---------+---------------------+------------------+--------------+----------------+"
            ],
            "text/html": [
              "<table>\n",
              "    <thead>\n",
              "        <tr>\n",
              "            <th>customer_id</th>\n",
              "            <th>first_name</th>\n",
              "            <th>last_name</th>\n",
              "            <th>email</th>\n",
              "            <th>phone</th>\n",
              "            <th>address1</th>\n",
              "            <th>address2</th>\n",
              "            <th>city</th>\n",
              "            <th>state_province</th>\n",
              "            <th>postal_code</th>\n",
              "            <th>country</th>\n",
              "            <th>signup_ts</th>\n",
              "            <th>marketing_opt_in</th>\n",
              "            <th>loyalty_tier</th>\n",
              "            <th>source_channel</th>\n",
              "        </tr>\n",
              "    </thead>\n",
              "    <tbody>\n",
              "        <tr>\n",
              "            <td>7155</td>\n",
              "            <td>Sebastian</td>\n",
              "            <td>Sanchez</td>\n",
              "            <td>sanchez.sebastian5071@gmail.com</td>\n",
              "            <td>(745) 741-2684</td>\n",
              "            <td>2961 Cedar Ln</td>\n",
              "            <td>None</td>\n",
              "            <td>Albany</td>\n",
              "            <td>NY</td>\n",
              "            <td>122881</td>\n",
              "            <td>USA</td>\n",
              "            <td>2024-01-29 00:36:07</td>\n",
              "            <td>FALSE</td>\n",
              "            <td>Gold</td>\n",
              "            <td>In-Store</td>\n",
              "        </tr>\n",
              "        <tr>\n",
              "            <td>9191</td>\n",
              "            <td>Sebastian</td>\n",
              "            <td>Sanchez</td>\n",
              "            <td>ssanchez2929@gmail.com</td>\n",
              "            <td>(688) 860-7293</td>\n",
              "            <td>7488 Elm Rd</td>\n",
              "            <td>None</td>\n",
              "            <td>Albany</td>\n",
              "            <td>NY</td>\n",
              "            <td>15367</td>\n",
              "            <td>USA</td>\n",
              "            <td>2022-12-06 01:19:40</td>\n",
              "            <td>TRUE</td>\n",
              "            <td>Silver</td>\n",
              "            <td>In-Store</td>\n",
              "        </tr>\n",
              "    </tbody>\n",
              "</table>"
            ]
          },
          "metadata": {},
          "execution_count": 10
        }
      ]
    },
    {
      "cell_type": "markdown",
      "source": [
        "---\n",
        "Orders exploration\n",
        "---"
      ],
      "metadata": {
        "id": "n3ovFq7G8W-7"
      },
      "id": "n3ovFq7G8W-7"
    },
    {
      "cell_type": "markdown",
      "metadata": {
        "id": "3Xl3Wsh97zqV"
      },
      "source": [
        "# Exploratory Data Analysis (EDA)"
      ],
      "id": "3Xl3Wsh97zqV"
    },
    {
      "cell_type": "markdown",
      "metadata": {
        "id": "bhPuAgOu7zqV"
      },
      "source": [
        "# Solution and Implementation"
      ],
      "id": "bhPuAgOu7zqV"
    },
    {
      "cell_type": "markdown",
      "metadata": {
        "id": "j_PTwb9A7zqV"
      },
      "source": [
        "# Recommendations and Next Steps"
      ],
      "id": "j_PTwb9A7zqV"
    }
  ]
}