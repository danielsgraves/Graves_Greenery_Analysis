{
  "cells": [
    {
      "cell_type": "markdown",
      "metadata": {},
      "source": [
        "# Graves' Greenery — Setup",
        "\\n",
        "SQL via DuckDB (ipython-sql + PrettyTable)\\n",
        "\\n",
        "Single DuckDB connection (no server). All CSVs in `/data` are exposed as VIEWS (or TABLES) without opening any secondary DuckDB connection."
      ]
    },
    {
      "cell_type": "code",
      "metadata": {},
      "execution_count": null,
      "outputs": [],
      "source": [
        "# --- CONFIG ---\\n",
        "REPO_USER = \"danielsgraves\"\\n",
        "REPO_NAME = \"Graves_Greenery_Analysis\"                  # repo folder name after clone\\n",
        "REPO_DIR  = f\"/content/{REPO_NAME}\"\\n",
        "DATA_DIR  = f\"{REPO_DIR}/data\"                           # CSVs live here\\n",
        "DB_FILE   = f\"{REPO_DIR}/outputs/graves_greenery.duckdb\"  # DuckDB file\\n",
        "LOAD_AS_VIEWS = True   # True: CSV -> VIEW (zero copy). False: CSV -> TABLE (materialize)\\n",
        "PRINT_SAMPLE_ROWS = 5   # preview rows in dashboard (0 to disable)\\n"
      ]
    },
    {
      "cell_type": "code",
      "metadata": {},
      "execution_count": null,
      "outputs": [],
      "source": [
        "# --- SYNC REPO: clone if missing, else pull latest ---\\n",
        "import os, subprocess\\n",
        "\\n",
        "def run(cmd):\\n",
        "    p = subprocess.run(cmd, shell=True, text=True, stdout=subprocess.PIPE, stderr=subprocess.STDOUT)\\n",
        "    print(p.stdout)\\n",
        "    if p.returncode != 0:\\n",
        "        raise RuntimeError(f\"Command failed: {cmd}\")\\n",
        "\\n",
        "if not os.path.exists(REPO_DIR):\\n",
        "    run(f\"git clone https://github.com/{REPO_USER}/{REPO_NAME}.git {REPO_DIR}\")\\n",
        "else:\\n",
        "    os.chdir(REPO_DIR)\\n",
        "    run(\"git fetch --all --prune\")\\n",
        "    run(\"git pull --rebase\")\\n",
        "\\n",
        "os.makedirs(f\"{REPO_DIR}/outputs\", exist_ok=True)\\n",
        "os.chdir(REPO_DIR)\\n",
        "print(\"Working dir:\", os.getcwd())\\n",
        "run(\"ls -la\")\\n"
      ]
    },
    {
      "cell_type": "code",
      "metadata": {},
      "execution_count": null,
      "outputs": [],
      "source": [
        "# --- INSTALL: ipython-sql + PrettyTable + DuckDB SQLAlchemy driver ---\\n",
        "%pip -q install ipython-sql prettytable duckdb duckdb-engine sqlalchemy pandas\\n",
        "\\n",
        "# Load SQL magic\\n",
        "%reload_ext sql\\n",
        "\\n",
        "# Prefer PrettyTable by default (flip to DataFrame with autopandas=True if needed)\\n",
        "%config SqlMagic.autopandas = False\\n",
        "%config SqlMagic.feedback = False\\n",
        "\\n",
        "# Pick a PrettyTable style that exists; fallback to DataFrame rendering\\n",
        "import prettytable as pt\\n",
        "candidates = ['MARKDOWN','PLAIN_COLUMNS','MSWORD_FRIENDLY','DOUBLE_BORDER','SINGLE_BORDER','DEFAULT']\\n",
        "avail = [s for s in candidates if hasattr(pt, s)]\\n",
        "if avail:\\n",
        "    chosen = avail[0]\\n",
        "    get_ipython().run_line_magic('config', f\"SqlMagic.style = '{chosen}'\")\\n",
        "    print(f\"PrettyTable style set to: {chosen}\")\\n",
        "else:\\n",
        "    get_ipython().run_line_magic('config', \"SqlMagic.autopandas = True\")\\n",
        "    print(\"No PrettyTable styles detected; switched to DataFrame rendering.\")\\n"
      ]
    },
    {
      "cell_type": "code",
      "metadata": {
        "id": "connect-duckdb"
      },
      "execution_count": null,
      "outputs": [],
      "source": [
        "# --- CLOSE ANY OLD CONNECTIONS, THEN CONNECT %sql TO DUCKDB ---\\n",
        "%sql --connections\\n",
        "%sql --close all\\n",
        "db_url = f\"duckdb:///{DB_FILE}\"\\n",
        "%sql $db_url\\n",
        "print(\"Connected:\", db_url)\\n"
      ]
    },
    {
      "cell_type": "code",
      "metadata": {
        "id": "load-csvs-through-sql"
      },
      "execution_count": null,
      "outputs": [],
      "source": [
        "# --- LOAD ALL CSVs USING THE ACTIVE %sql CONNECTION (NO SECOND DUCKDB CONNECTION) ---\\n",
        "import os, glob\\n",
        "from IPython import get_ipython\\n",
        "\\n",
        "files = sorted(glob.glob(os.path.join(DATA_DIR, \"*.csv\")))\\n",
        "print(f\"Found {len(files)} CSV(s) in {DATA_DIR}\")\\n",
        "if not files:\\n",
        "    print(\"⚠️ No CSVs found. Put your data files under /data in the repo.\")\\n",
        "else:\\n",
        "    for path in files:\\n",
        "        table = os.path.splitext(os.path.basename(path))[0]\\n",
        "        if LOAD_AS_VIEWS:\\n",
        "            sql = f\"\"\"\\n",
        "            CREATE OR REPLACE VIEW {table} AS\\n",
        "            SELECT * FROM read_csv_auto('{path}', HEADER=TRUE);\\n",
        "            \"\"\"\\n",
        "        else:\\n",
        "            sql = f\"\"\"\\n",
        "            CREATE OR REPLACE TABLE {table} AS\\n",
        "            SELECT * FROM read_csv_auto('{path}', HEADER=TRUE);\\n",
        "            \"\"\"\\n",
        "        get_ipython().run_cell_magic('sql', '', sql)\\n",
        "        print((\"VIEW ready: \" if LOAD_AS_VIEWS else \"TABLE loaded: \") + table)\\n",
        "\\n",
        "print(\"Done.\")\\n"
      ]
    },
    {
      "cell_type": "code",
      "metadata": {
        "id": "show-tables"
      },
      "execution_count": null,
      "outputs": [],
      "source": [
        "%%sql\\n",
        "SHOW TABLES;\\n"
      ]
    },
    {
      "cell_type": "code",
      "metadata": {
        "id": "row-count-dashboard"
      },
      "execution_count": null,
      "outputs": [],
      "source": [
        "# --- ROW COUNT DASHBOARD (USES %sql CONNECTION ONLY) ---\\n",
        "%config SqlMagic.autopandas = True   # easier to collect DataFrames for the dashboard\\n",
        "res = %sql SELECT name FROM duckdb_tables() ORDER BY name;\\n",
        "tables = res.DataFrame()['name'].tolist()\\n",
        "\\n",
        "import pandas as pd\\n",
        "rows = []\\n",
        "for t in tables:\\n",
        "    cnt = %sql SELECT COUNT(*) AS n FROM $t;\\n",
        "    n = int(cnt.DataFrame()['n'][0])\\n",
        "    rows.append({'table': t, 'rows': n})\\n",
        "counts = pd.DataFrame(rows).sort_values('table').reset_index(drop=True)\\n",
        "counts\\n",
        "\\n",
        "if PRINT_SAMPLE_ROWS and tables:\\n",
        "    for t in tables:\\n",
        "        print(f\"\\n### {t} (first {PRINT_SAMPLE_ROWS} rows)\")\\n",
        "        _ = %sql SELECT * FROM $t LIMIT $PRINT_SAMPLE_ROWS;\\n",
        "\\n",
        "# If you prefer PrettyTable in later cells again:\\n",
        "%config SqlMagic.autopandas = False\\n"
      ]
    },
    {
      "cell_type": "markdown",
      "metadata": {},
      "source": [
        "## SQL Sandbox\\n",
        "Use `%%sql` below to run queries directly against DuckDB."
      ]
    },
    {
      "cell_type": "code",
      "metadata": {
        "id": "sandbox"
      },
      "execution_count": null,
      "outputs": [],
      "source": [
        "%%sql\\n",
        "-- Examples (replace with your schema):\\n",
        "-- SELECT COUNT(*) AS n FROM dim_customers;\\n",
        "-- SELECT category, COUNT(*) AS n FROM dim_plants GROUP BY category ORDER BY n DESC LIMIT 10;\\n"
      ]
    },
    {
      "cell_type": "markdown",
      "metadata": {},
      "source": [
        "# Project Overview"
      ]
    },
    {
      "cell_type": "markdown",
      "metadata": {},
      "source": [
        "# Problem Statement"
      ]
    },
    {
      "cell_type": "markdown",
      "metadata": {},
      "source": [
        "# Data Cleaning and Preparation"
      ]
    },
    {
      "cell_type": "markdown",
      "metadata": {},
      "source": [
        "# Exploratory Data Analysis (EDA)"
      ]
    },
    {
      "cell_type": "markdown",
      "metadata": {},
      "source": [
        "# Solution and Implementation"
      ]
    },
    {
      "cell_type": "markdown",
      "metadata": {},
      "source": [
        "# Recommendations and Next Steps"
      ]
    }
  ],
  "metadata": {
    "colab": {
      "include_colab_link": true
    },
    "kernelspec": {
      "display_name": "Python 3",
      "name": "python3"
    },
    "language_info": {
      "name": "python"
    }
  },
  "nbformat": 4,
  "nbformat_minor": 0
}
