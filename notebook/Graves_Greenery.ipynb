{
 "nbformat": 4,
 "nbformat_minor": 5,
 "metadata": {
  "colab": {
   "name": "Graves_Greenery_Colab_Template",
   "provenance": []
  },
  "kernelspec": {
   "name": "python3",
   "display_name": "Python 3"
  },
  "language_info": {
   "name": "python",
   "version": "3.10"
  }
 },
 "cells": [
  {
   "cell_type": "markdown",
   "metadata": {},
   "source": [
    "# 🌿 Graves Greenery Colab Template\n",
    "This notebook creates a local DuckDB environment, clones your public GitHub repo, loads all CSVs under `/data/**`, and lets you query them with `%sql`."
   ]
  },
  {
   "cell_type": "code",
   "metadata": {},
   "source": [
    "!pip -q install --upgrade duckdb duckdb-engine \"sqlalchemy>=2.0\" ipython-sql jupysql\n",
    "\n",
    "import os, subprocess\n",
    "REPO_USER = \"danielgraves\"\n",
    "REPO_NAME = \"Graves_Greenery_Analysis\"\n",
    "REPO_DIR = f\"/content/{REPO_NAME}\"\n",
    "\n",
    "if not os.path.exists(REPO_DIR):\n",
    "    subprocess.run(f\"git clone --depth 1 https://github.com/{REPO_USER}/{REPO_NAME}.git {REPO_DIR}\", shell=True, check=True)\n",
    "else:\n",
    "    subprocess.run(f\"git -C {REPO_DIR} pull --ff-only\", shell=True, check=True)\n",
    "\n",
    "print(\"Repo ready at:\", REPO_DIR)\n",
    "print(\"CSV root:\", f\"{REPO_DIR}/data\")"
   ],
   "execution_count": null,
   "outputs": []
  },
  {
   "cell_type": "code",
   "metadata": {},
   "source": [
    "DB_PATH = \"/content/graves_greenery.duckdb\"\n",
    "CSV_GLOB = \"data/**/*.[cC][sS][vV]\"\n",
    "INCLUDE_PARENT_IN_TABLE = False\n",
    "print(\"DB file:\", DB_PATH)"
   ],
   "execution_count": null,
   "outputs": []
  },
  {
   "cell_type": "code",
   "metadata": {},
   "source": [
    "%reload_ext sql\n",
    "from sql.connection import Connection\n",
    "try:\n",
    "    if Connection.current is not None and getattr(Connection.current, 'session', None):\n",
    "        try: Connection.current.session.close()\n",
    "        except Exception: pass\n",
    "except Exception:\n",
    "    pass\n",
    "Connection.connections.clear()\n",
    "Connection.current = None\n",
    "print('SQL magic reset.')\n",
    "\n",
    "# Use absolute path DSN\n",
    "%sql duckdb:////content/graves_greenery.duckdb"
   ],
   "execution_count": null,
   "outputs": []
  },
  {
   "cell_type": "code",
   "metadata": {},
   "source": [
    "%%sql\n",
    "SELECT * FROM pragma_database_list();"
   ],
   "execution_count": null,
   "outputs": []
  },
  {
   "cell_type": "code",
   "metadata": {},
   "source": [
    "import glob, re\n",
    "from pathlib import Path\n",
    "\n",
    "def slugify_table_name(path, include_parent=False):\n",
    "    p = Path(path)\n",
    "    stem = re.sub(r'[^a-z0-9_]+','_', p.stem.lower()).strip('_')\n",
    "    if include_parent and p.parent != p.parent.parent:\n",
    "        parent = re.sub(r'[^a-z0-9_]+','_', p.parent.name.lower()).strip('_')\n",
    "        stem = f\"{parent}_{stem}\"\n",
    "    if re.match(r'^\\d', stem):\n",
    "        stem = 't_' + stem\n",
    "    return stem\n",
    "\n",
    "files = glob.glob(os.path.join(REPO_DIR, CSV_GLOB), recursive=True)\n",
    "print(f\"Found {len(files)} CSV(s).\")\n",
    "\n",
    "loaded = []\n",
    "for f in files:\n",
    "    tbl = slugify_table_name(f, include_parent=INCLUDE_PARENT_IN_TABLE)\n",
    "    q = f\"\"\"\n",
    "    CREATE OR REPLACE TABLE \"{tbl}\" AS\n",
    "    SELECT * FROM read_csv_auto('{f}', header=True, sample_size=-1, ignore_errors=True);\n",
    "    \"\"\"\n",
    "    get_ipython().run_cell_magic('sql', '', q)\n",
    "    loaded.append((tbl, f))\n",
    "\n",
    "print(\"Loaded tables (first few):\", [t for t,_ in loaded[:8]])"
   ],
   "execution_count": null,
   "outputs": []
  },
  {
   "cell_type": "code",
   "metadata": {},
   "source": [
    "%%sql\n",
    "SELECT table_name\n",
    "FROM information_schema.tables\n",
    "WHERE table_schema = 'main'\n",
    "ORDER BY table_name;"
   ],
   "execution_count": null,
   "outputs": []
  },
  {
   "cell_type": "code",
   "metadata": {},
   "source": [
    "%%sql\n",
    "SELECT * FROM customers LIMIT 5;"
   ],
   "execution_count": null,
   "outputs": []
  },
  {
   "cell_type": "code",
   "metadata": {},
   "source": [
    "# Optional view alias for dim_customers\n",
    "%%sql\n",
    "CREATE OR REPLACE VIEW dim_customers AS SELECT * FROM customers;\n",
    "SELECT * FROM dim_customers LIMIT 5;"
   ],
   "execution_count": null,
   "outputs": []
  }
 ]
}
