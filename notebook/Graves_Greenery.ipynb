{
  "nbformat": 4,
  "nbformat_minor": 5,
  "metadata": {
    "colab": {
      "name": "Graves_Greenery_Colab_InMemory",
      "provenance": [],
      "collapsed_sections": [
        "setup-section"
      ]
    },
    "kernelspec": {
      "name": "python3",
      "display_name": "Python 3"
    },
    "language_info": {
      "name": "python",
      "version": "3.10"
    }
  },
  "cells": [
    {
      "cell_type": "markdown",
      "metadata": {
        "id": "setup-section"
      },
      "source": [
        "# 🚀 Quick Start — Load Data & Enable SQL (No Server)"
      ],
      "id": "setup-section"
    },
    {
      "cell_type": "markdown",
      "source": [
        "###_This section sets up an **in-memory DuckDB** and the `%%sql` magic so you can run SQL directly in Colab. CSVs from the GitHub repo are loaded into tables named after each file (snake_case)._\n",
        "\n",
        "###**What you get:**\n",
        "- One in-memory DuckDB session (no MySQL/SQLite servers)\n",
        "- `%%sql` / `%sql` via `ipython-sql` with pretty table output\n",
        "- Auto-load all CSVs from `data/**` → tables (e.g., `dim_customers`)\n",
        "- A quick verification query you can edit"
      ],
      "metadata": {
        "id": "qyiJsrW88Fgg"
      },
      "id": "qyiJsrW88Fgg"
    },
    {
      "cell_type": "markdown",
      "metadata": {
        "id": "3n6wzgil7zqS"
      },
      "source": [
        "### 1) Install libraries & pull your repo"
      ],
      "id": "3n6wzgil7zqS"
    },
    {
      "cell_type": "code",
      "metadata": {
        "id": "mu_JZK-x7zqT",
        "outputId": "94f89617-7c10-4624-e5ae-7e8d35f30756",
        "colab": {
          "base_uri": "https://localhost:8080/"
        }
      },
      "execution_count": null,
      "outputs": [
        {
          "output_type": "stream",
          "name": "stdout",
          "text": [
            "\u001b[2K     \u001b[90m━━━━━━━━━━━━━━━━━━━━━━━━━━━━━━━━━━━━━━━━\u001b[0m \u001b[32m91.2/91.2 kB\u001b[0m \u001b[31m2.6 MB/s\u001b[0m eta \u001b[36m0:00:00\u001b[0m\n",
            "\u001b[2K   \u001b[90m━━━━━━━━━━━━━━━━━━━━━━━━━━━━━━━━━━━━━━━━\u001b[0m \u001b[32m20.5/20.5 MB\u001b[0m \u001b[31m27.0 MB/s\u001b[0m eta \u001b[36m0:00:00\u001b[0m\n",
            "\u001b[2K   \u001b[90m━━━━━━━━━━━━━━━━━━━━━━━━━━━━━━━━━━━━━━━━\u001b[0m \u001b[32m49.7/49.7 kB\u001b[0m \u001b[31m3.6 MB/s\u001b[0m eta \u001b[36m0:00:00\u001b[0m\n",
            "\u001b[2K   \u001b[90m━━━━━━━━━━━━━━━━━━━━━━━━━━━━━━━━━━━━━━━━\u001b[0m \u001b[32m95.1/95.1 kB\u001b[0m \u001b[31m6.6 MB/s\u001b[0m eta \u001b[36m0:00:00\u001b[0m\n",
            "\u001b[2K   \u001b[90m━━━━━━━━━━━━━━━━━━━━━━━━━━━━━━━━━━━━━━━━\u001b[0m \u001b[32m12.4/12.4 MB\u001b[0m \u001b[31m101.1 MB/s\u001b[0m eta \u001b[36m0:00:00\u001b[0m\n",
            "\u001b[2K   \u001b[90m━━━━━━━━━━━━━━━━━━━━━━━━━━━━━━━━━━━━━━━━\u001b[0m \u001b[32m192.8/192.8 kB\u001b[0m \u001b[31m14.4 MB/s\u001b[0m eta \u001b[36m0:00:00\u001b[0m\n",
            "\u001b[2K   \u001b[90m━━━━━━━━━━━━━━━━━━━━━━━━━━━━━━━━━━━━━━━━\u001b[0m \u001b[32m1.6/1.6 MB\u001b[0m \u001b[31m63.5 MB/s\u001b[0m eta \u001b[36m0:00:00\u001b[0m\n",
            "\u001b[2K   \u001b[90m━━━━━━━━━━━━━━━━━━━━━━━━━━━━━━━━━━━━━━━━\u001b[0m \u001b[32m137.3/137.3 kB\u001b[0m \u001b[31m11.2 MB/s\u001b[0m eta \u001b[36m0:00:00\u001b[0m\n",
            "\u001b[?25h\u001b[31mERROR: pip's dependency resolver does not currently take into account all the packages that are installed. This behaviour is the source of the following dependency conflicts.\n",
            "google-colab 1.0.0 requires pandas==2.2.2, but you have pandas 2.3.3 which is incompatible.\n",
            "dask-cudf-cu12 25.6.0 requires pandas<2.2.4dev0,>=2.0, but you have pandas 2.3.3 which is incompatible.\n",
            "cudf-cu12 25.6.0 requires pandas<2.2.4dev0,>=2.0, but you have pandas 2.3.3 which is incompatible.\u001b[0m\u001b[31m\n",
            "\u001b[0mRepo ready at: /content/Graves_Greenery_Analysis\n",
            "CSV root: /content/Graves_Greenery_Analysis/data\n"
          ]
        }
      ],
      "source": [
        "!pip -q install --upgrade duckdb duckdb-engine \"sqlalchemy>=2.0\" ipython-sql jupysql pandas\n",
        "\n",
        "import os, subprocess\n",
        "REPO_USER = \"danielsgraves\"                 # <-- repo owner\n",
        "REPO_NAME = \"Graves_Greenery_Analysis\"     # <-- repo name\n",
        "REPO_DIR  = f\"/content/{REPO_NAME}\"\n",
        "\n",
        "if not os.path.exists(REPO_DIR):\n",
        "    subprocess.run(\n",
        "        f\"git clone --depth 1 https://github.com/{REPO_USER}/{REPO_NAME}.git {REPO_DIR}\",\n",
        "        shell=True, check=True\n",
        "    )\n",
        "else:\n",
        "    subprocess.run(f\"git -C {REPO_DIR} pull --ff-only\", shell=True, check=True)\n",
        "\n",
        "print(\"Repo ready at:\", REPO_DIR)\n",
        "print(\"CSV root:\", f\"{REPO_DIR}/data\")"
      ],
      "id": "mu_JZK-x7zqT"
    },
    {
      "cell_type": "markdown",
      "metadata": {
        "id": "4y9LgUbo7zqT"
      },
      "source": [
        "### 2) Connect a single in-memory DuckDB session for `%%sql`"
      ],
      "id": "4y9LgUbo7zqT"
    },
    {
      "cell_type": "code",
      "metadata": {
        "id": "wu1k-5mW7zqU",
        "outputId": "fdc5a13d-f68a-4a6c-e179-c1edcadb160d",
        "colab": {
          "base_uri": "https://localhost:8080/"
        }
      },
      "execution_count": null,
      "outputs": [
        {
          "output_type": "stream",
          "name": "stdout",
          "text": [
            "✅ Connected %sql to in-memory DuckDB.\n"
          ]
        }
      ],
      "source": [
        "%reload_ext sql\n",
        "%config SqlMagic.autopandas = False    # PrettyTable output (set True for DataFrame)\n",
        "%config SqlMagic.feedback = False\n",
        "%sql duckdb:///:memory:\n",
        "print(\"✅ Connected %sql to in-memory DuckDB.\")"
      ],
      "id": "wu1k-5mW7zqU"
    },
    {
      "cell_type": "markdown",
      "metadata": {
        "id": "G2gzsT8j7zqU"
      },
      "source": [
        "### 3) Load all CSVs → tables (names match file stems)"
      ],
      "id": "G2gzsT8j7zqU"
    },
    {
      "cell_type": "code",
      "metadata": {
        "id": "pQzLNxBB7zqU",
        "outputId": "28340b10-c511-4b17-c48e-a8608389ded1",
        "colab": {
          "base_uri": "https://localhost:8080/"
        }
      },
      "execution_count": null,
      "outputs": [
        {
          "output_type": "stream",
          "name": "stdout",
          "text": [
            "Found 10 CSV(s). Showing first 15 mappings…\n",
            "  data/dim_dates.csv  →  dim_dates\n",
            "  data/data_dictionary.csv  →  data_dictionary\n",
            "  data/dim_customers.csv  →  dim_customers\n",
            "  data/graves_greenery_full_denormalized.csv  →  graves_greenery_full_denormalized\n",
            "  data/fact_order_items.csv  →  fact_order_items\n",
            "  data/dim_plants.csv  →  dim_plants\n",
            "  data/dim_categories.csv  →  dim_categories\n",
            "  data/dim_inventory.csv  →  dim_inventory\n",
            "  data/fact_orders.csv  →  fact_orders\n",
            "  data/dim_locations.csv  →  dim_locations\n",
            "Loaded tables (first few): ['dim_dates', 'data_dictionary', 'dim_customers', 'graves_greenery_full_denormalized', 'fact_order_items', 'dim_plants', 'dim_categories', 'dim_inventory']\n"
          ]
        }
      ],
      "source": [
        "import os, re, glob\n",
        "from pathlib import Path\n",
        "\n",
        "CSV_GLOB = \"data/**/*.[cC][sS][vV]\"   # case-insensitive .csv\n",
        "INCLUDE_PARENT_PREFIX = False          # True → prefix parent folder: e.g., sales_dim_customers\n",
        "\n",
        "def to_snake(name: str) -> str:\n",
        "    s = re.sub(r\"[^0-9a-zA-Z]+\", \"_\", name).strip(\"_\")\n",
        "    s = re.sub(r\"_+\", \"_\", s)\n",
        "    if s and s[0].isdigit():\n",
        "        s = \"t_\" + s\n",
        "    return s.lower()\n",
        "\n",
        "def table_name_for(csv_path: Path) -> str:\n",
        "    stem = csv_path.stem\n",
        "    if INCLUDE_PARENT_PREFIX and csv_path.parent != csv_path.parent.parent:\n",
        "        return to_snake(csv_path.parent.name + \"_\" + stem)\n",
        "    return to_snake(stem)\n",
        "\n",
        "files = [Path(p) for p in glob.glob(os.path.join(REPO_DIR, CSV_GLOB), recursive=True)]\n",
        "files = [p for p in files if p.is_file()]\n",
        "print(f\"Found {len(files)} CSV(s). Showing first 15 mappings…\")\n",
        "for rel, tbl in [(str(p.relative_to(REPO_DIR)), table_name_for(p)) for p in files[:15]]:\n",
        "    print(f\"  {rel}  →  {tbl}\")\n",
        "\n",
        "# Create tables via the same %sql connection (no secondary connections)\n",
        "for p in files:\n",
        "    tbl = table_name_for(p)\n",
        "    q = f\"\"\"\n",
        "    CREATE OR REPLACE TABLE \"{tbl}\" AS\n",
        "    SELECT * FROM read_csv_auto('{str(p)}', header=True, sample_size=-1, ignore_errors=True);\n",
        "    \"\"\"\n",
        "    get_ipython().run_cell_magic('sql', '', q)\n",
        "\n",
        "print(\"Loaded tables (first few):\", [table_name_for(p) for p in files[:8]])"
      ],
      "id": "pQzLNxBB7zqU"
    },
    {
      "cell_type": "markdown",
      "metadata": {
        "id": "Ib-SAakV7zqU"
      },
      "source": [
        "### 4) Verify & sample\n",
        "_If your repo has `data/**/dim_customers.csv`, the table will be **`dim_customers`**._"
      ],
      "id": "Ib-SAakV7zqU"
    },
    {
      "cell_type": "code",
      "source": [
        "# Remove displaylimit\n",
        "%config SqlMagic.displaylimit = None"
      ],
      "metadata": {
        "id": "n3R6NBne9Usp",
        "outputId": "9b6b3c36-2702-4a0d-c362-b3d869cb1b77",
        "colab": {
          "base_uri": "https://localhost:8080/",
          "height": 34
        }
      },
      "id": "n3R6NBne9Usp",
      "execution_count": null,
      "outputs": [
        {
          "output_type": "display_data",
          "data": {
            "text/plain": [
              "displaylimit: Value None will be treated as 0 (no limit)"
            ],
            "text/html": [
              "<span style=\"None\">displaylimit: Value None will be treated as 0 (no limit)</span>"
            ]
          },
          "metadata": {}
        }
      ]
    },
    {
      "cell_type": "code",
      "metadata": {
        "id": "XhNd1cr_7zqU",
        "outputId": "125b96f7-3a37-48be-f3cd-1e50811fe562",
        "colab": {
          "base_uri": "https://localhost:8080/",
          "height": 254
        }
      },
      "execution_count": null,
      "outputs": [
        {
          "output_type": "execute_result",
          "data": {
            "text/plain": [
              "+-----------------------------------+\n",
              "|             table_name            |\n",
              "+-----------------------------------+\n",
              "|          data_dictionary          |\n",
              "|           dim_categories          |\n",
              "|           dim_customers           |\n",
              "|             dim_dates             |\n",
              "|           dim_inventory           |\n",
              "|           dim_locations           |\n",
              "|             dim_plants            |\n",
              "|          fact_order_items         |\n",
              "|            fact_orders            |\n",
              "| graves_greenery_full_denormalized |\n",
              "+-----------------------------------+"
            ],
            "text/html": [
              "<table>\n",
              "    <thead>\n",
              "        <tr>\n",
              "            <th>table_name</th>\n",
              "        </tr>\n",
              "    </thead>\n",
              "    <tbody>\n",
              "        <tr>\n",
              "            <td>data_dictionary</td>\n",
              "        </tr>\n",
              "        <tr>\n",
              "            <td>dim_categories</td>\n",
              "        </tr>\n",
              "        <tr>\n",
              "            <td>dim_customers</td>\n",
              "        </tr>\n",
              "        <tr>\n",
              "            <td>dim_dates</td>\n",
              "        </tr>\n",
              "        <tr>\n",
              "            <td>dim_inventory</td>\n",
              "        </tr>\n",
              "        <tr>\n",
              "            <td>dim_locations</td>\n",
              "        </tr>\n",
              "        <tr>\n",
              "            <td>dim_plants</td>\n",
              "        </tr>\n",
              "        <tr>\n",
              "            <td>fact_order_items</td>\n",
              "        </tr>\n",
              "        <tr>\n",
              "            <td>fact_orders</td>\n",
              "        </tr>\n",
              "        <tr>\n",
              "            <td>graves_greenery_full_denormalized</td>\n",
              "        </tr>\n",
              "    </tbody>\n",
              "</table>"
            ]
          },
          "metadata": {},
          "execution_count": 9
        }
      ],
      "source": [
        "%%sql\n",
        "SELECT table_name\n",
        "FROM information_schema.tables\n",
        "WHERE table_schema='main'\n",
        "ORDER BY table_name;"
      ],
      "id": "XhNd1cr_7zqU"
    },
    {
      "cell_type": "code",
      "metadata": {
        "id": "AxEPCgr27zqV",
        "outputId": "0b2d4264-fa1d-4720-b06c-e951cf895937",
        "colab": {
          "base_uri": "https://localhost:8080/",
          "height": 83
        }
      },
      "execution_count": 12,
      "outputs": [
        {
          "output_type": "execute_result",
          "data": {
            "text/plain": [
              "+-------------+------------+-----------+---------------------------------+-------+----------------+----------+---------+----------------+-------------+---------+------------+------------------+--------------+----------------+\n",
              "| customer_id | first_name | last_name |              email              | phone |    address1    | address2 |   city  | state_province | postal_code | country | signup_ts  | marketing_opt_in | loyalty_tier | source_channel |\n",
              "+-------------+------------+-----------+---------------------------------+-------+----------------+----------+---------+----------------+-------------+---------+------------+------------------+--------------+----------------+\n",
              "|      1      |   Aiden    |  Lopez    | aiden.lopez@gravesgreenery.com  |  None | 798 birch way  |   None   | Olympia |       WA       |    97589    |   USA   | 2023-03-11 |       True       |     None     |     Friend     |\n",
              "|      2      |   Ethan    |  MARTINEZ |      emartinez@outlook.com      |  None | 6129 Willow St |   None   | Seattle |       WA       |    98766    |   USA   | 2023-11-25 |       True       |     None     |     Friend     |\n",
              "+-------------+------------+-----------+---------------------------------+-------+----------------+----------+---------+----------------+-------------+---------+------------+------------------+--------------+----------------+"
            ],
            "text/html": [
              "<table>\n",
              "    <thead>\n",
              "        <tr>\n",
              "            <th>customer_id</th>\n",
              "            <th>first_name</th>\n",
              "            <th>last_name</th>\n",
              "            <th>email</th>\n",
              "            <th>phone</th>\n",
              "            <th>address1</th>\n",
              "            <th>address2</th>\n",
              "            <th>city</th>\n",
              "            <th>state_province</th>\n",
              "            <th>postal_code</th>\n",
              "            <th>country</th>\n",
              "            <th>signup_ts</th>\n",
              "            <th>marketing_opt_in</th>\n",
              "            <th>loyalty_tier</th>\n",
              "            <th>source_channel</th>\n",
              "        </tr>\n",
              "    </thead>\n",
              "    <tbody>\n",
              "        <tr>\n",
              "            <td>1</td>\n",
              "            <td>Aiden</td>\n",
              "            <td>Lopez  </td>\n",
              "            <td>aiden.lopez@gravesgreenery.com </td>\n",
              "            <td>None</td>\n",
              "            <td>798 birch way </td>\n",
              "            <td>None</td>\n",
              "            <td>Olympia</td>\n",
              "            <td>WA</td>\n",
              "            <td>97589</td>\n",
              "            <td>USA</td>\n",
              "            <td>2023-03-11</td>\n",
              "            <td>True</td>\n",
              "            <td>None</td>\n",
              "            <td>Friend</td>\n",
              "        </tr>\n",
              "        <tr>\n",
              "            <td>2</td>\n",
              "            <td>Ethan</td>\n",
              "            <td> MARTINEZ</td>\n",
              "            <td>emartinez@outlook.com</td>\n",
              "            <td>None</td>\n",
              "            <td>6129 Willow St</td>\n",
              "            <td>None</td>\n",
              "            <td>Seattle</td>\n",
              "            <td>WA</td>\n",
              "            <td>98766</td>\n",
              "            <td>USA</td>\n",
              "            <td>2023-11-25</td>\n",
              "            <td>True</td>\n",
              "            <td>None</td>\n",
              "            <td>Friend</td>\n",
              "        </tr>\n",
              "    </tbody>\n",
              "</table>"
            ]
          },
          "metadata": {},
          "execution_count": 12
        }
      ],
      "source": [
        "%%sql\n",
        "SELECT *\n",
        "FROM dim_customers\n",
        "LIMIT 2;"
      ],
      "id": "AxEPCgr27zqV"
    },
    {
      "cell_type": "markdown",
      "metadata": {
        "id": "IWK88Gn97zqV"
      },
      "source": [
        "# Project Overview"
      ],
      "id": "IWK88Gn97zqV"
    },
    {
      "cell_type": "markdown",
      "metadata": {
        "id": "EWX7U1FU7zqV"
      },
      "source": [
        "# Problem Statement"
      ],
      "id": "EWX7U1FU7zqV"
    },
    {
      "cell_type": "markdown",
      "metadata": {
        "id": "qmdVzytF7zqV"
      },
      "source": [
        "# Data Cleaning and Preparation"
      ],
      "id": "qmdVzytF7zqV"
    },
    {
      "cell_type": "markdown",
      "metadata": {
        "id": "3Xl3Wsh97zqV"
      },
      "source": [
        "# Exploratory Data Analysis (EDA)"
      ],
      "id": "3Xl3Wsh97zqV"
    },
    {
      "cell_type": "markdown",
      "metadata": {
        "id": "bhPuAgOu7zqV"
      },
      "source": [
        "# Solution and Implementation"
      ],
      "id": "bhPuAgOu7zqV"
    },
    {
      "cell_type": "markdown",
      "metadata": {
        "id": "j_PTwb9A7zqV"
      },
      "source": [
        "# Recommendations and Next Steps"
      ],
      "id": "j_PTwb9A7zqV"
    }
  ]
}