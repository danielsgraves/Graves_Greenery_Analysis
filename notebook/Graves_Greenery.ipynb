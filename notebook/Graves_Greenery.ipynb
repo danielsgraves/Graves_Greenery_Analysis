{
  "nbformat": 4,
  "nbformat_minor": 5,
  "metadata": {
    "colab": {
      "name": "Graves_Greenery_Colab_Fixed",
      "provenance": []
    },
    "kernelspec": {
      "name": "python3",
      "display_name": "Python 3"
    },
    "language_info": {
      "name": "python",
      "version": "3.10"
    }
  },
  "cells": [
    {
      "cell_type": "markdown",
      "metadata": {},
      "source": [
        "# 🌿 Graves Greenery — Colab (DuckDB + `%sql conn`)\n",
        "\n",
        "This notebook uses a **single DuckDB connection** for both loading and querying to avoid configuration conflicts.\n",
        "\n",
        "**What it does**\n",
        "1) Installs deps and clones your public GitHub repo (`danielsgraves/Graves_Greenery_Analysis`)\n",
        "2) Opens one DuckDB connection and binds `%sql` to it: `%%sql` works with PrettyTable output\n",
        "3) Loads all CSVs under `/data/**` as tables\n",
        "4) Lists tables and runs a simple test query\n"
      ]
    },
    {
      "cell_type": "code",
      "metadata": {},
      "source": [
        "!pip -q install --upgrade duckdb duckdb-engine \"sqlalchemy>=2.0\" ipython-sql jupysql\n",
        "\n",
        "import os, subprocess\n",
        "REPO_USER = \"danielsgraves\"          # <-- correct owner\n",
        "REPO_NAME = \"Graves_Greenery_Analysis\"\n",
        "REPO_DIR  = f\"/content/{REPO_NAME}\"\n",
        "\n",
        "if not os.path.exists(REPO_DIR):\n",
        "    subprocess.run(\n",
        "        f\"git clone --depth 1 https://github.com/{REPO_USER}/{REPO_NAME}.git {REPO_DIR}\",\n",
        "        shell=True, check=True\n",
        "    )\n",
        "else:\n",
        "    subprocess.run(f\"git -C {REPO_DIR} pull --ff-only\", shell=True, check=True)\n",
        "\n",
        "print(\"Repo ready at:\", REPO_DIR)\n",
        "print(\"CSV root:\", f\"{REPO_DIR}/data\")"
      ],
      "execution_count": null,
      "outputs": []
    },
    {
      "cell_type": "code",
      "metadata": {},
      "source": [
        "import duckdb\n",
        "DB_PATH = \"/content/graves_greenery.duckdb\"  # one file, used everywhere\n",
        "\n",
        "# Open a single DBAPI connection (read/write)\n",
        "conn = duckdb.connect(DB_PATH)\n",
        "\n",
        "# Bind JupySQL/ipython-sql to THIS connection (no URL parsing)\n",
        "%reload_ext sql\n",
        "%sql conn\n",
        "print(\"Bound %sql to:\", conn, \"→\", DB_PATH)"
      ],
      "execution_count": null,
      "outputs": []
    },
    {
      "cell_type": "code",
      "metadata": {},
      "source": [
        "%%sql\n",
        "SELECT * FROM pragma_database_list();"
      ],
      "execution_count": null,
      "outputs": []
    },
    {
      "cell_type": "code",
      "metadata": {},
      "source": [
        "import os, re, glob\n",
        "from pathlib import Path\n",
        "\n",
        "REPO_DIR = \"/content/Graves_Greenery_Analysis\"\n",
        "CSV_GLOB = \"data/**/*.[cC][sS][vV]\"  # case-insensitive .csv\n",
        "INCLUDE_PARENT_IN_TABLE = False\n",
        "\n\",\n",
        "def slugify_table_name(path, include_parent=False):\n",
        "    p = Path(path)\n",
        "    stem = re.sub(r'[^a-z0-9_]+','_', p.stem.lower()).strip('_')\n",
        "    if include_parent and p.parent != p.parent.parent:\n",
        "        parent = re.sub(r'[^a-z0-9_]+','_', p.parent.name.lower()).strip('_')\n",
        "        stem = f\"{parent}_{stem}\"\n",
        "    if re.match(r'^\\d', stem):\n",
        "        stem = 't_' + stem\n",
        "    return stem\n",
        "\n",
        "files = glob.glob(os.path.join(REPO_DIR, CSV_GLOB), recursive=True)\n",
        "print(f\"Found {len(files)} CSV(s). Loading…\")\n",
        "\n",
        "# Load all CSVs into tables via the SAME connection\n",
        "for f in files:\n",
        "    tbl = slugify_table_name(f, INCLUDE_PARENT_IN_TABLE)\n",
        "    conn.execute(\n",
        "        f\"\"\"\n",
        "        CREATE OR REPLACE TABLE \"{tbl}\" AS\n",
        "        SELECT * FROM read_csv_auto(?, header=True, sample_size=-1, ignore_errors=True);\n",
        "        \"\"\",\n",
        "        [f]\n",
        "    )\n",
        "print(\"Loaded a few:\", [slugify_table_name(f) for f in files[:5]])"
      ],
      "execution_count": null,
      "outputs": []
    },
    {
      "cell_type": "code",
      "metadata": {},
      "source": [
        "%%sql\n",
        "SELECT table_name\n",
        "FROM information_schema.tables\n",
        "WHERE table_schema = 'main'\n",
        "ORDER BY table_name;"
      ],
      "execution_count": null,
      "outputs": []
    },
    {
      "cell_type": "code",
      "metadata": {},
      "source": [
        "%%sql\n",
        "-- Replace 'customers' if your table has a different name from the list above\n",
        "SELECT * FROM customers LIMIT 5;"
      ],
      "execution_count": null,
      "outputs": []
    },
    {
      "cell_type": "code",
      "metadata": {},
      "source": [
        "%%sql\n",
        "-- Optional: keep a dim_* alias if you prefer that naming\n",
        "CREATE OR REPLACE VIEW dim_customers AS SELECT * FROM customers;\n",
        "SELECT * FROM dim_customers LIMIT 5;"
      ],
      "execution_count": null,
      "outputs": []
    }
  ]
}
