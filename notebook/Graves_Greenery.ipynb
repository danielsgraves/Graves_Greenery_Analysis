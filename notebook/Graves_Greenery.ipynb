{
  "nbformat": 4,
  "nbformat_minor": 5,
  "metadata": {
    "colab": {
      "name": "Graves_Greenery_Colab_NoDualConn",
      "provenance": []
    },
    "kernelspec": {
      "name": "python3",
      "display_name": "Python 3"
    },
    "language_info": {
      "name": "python",
      "version": "3.10"
    }
  },
  "cells": [
    {
      "cell_type": "markdown",
      "metadata": {},
      "source": [
        "# 🌿 Graves Greenery — single-connection DuckDB + `%sql`\n",
        "\n",
        "This notebook avoids the “two connections / different configuration” issue by:\n",
        "- **Never** calling `duckdb.connect()` directly\n",
        "- Letting `%sql` open **one** connection to the DuckDB file\n",
        "- Loading CSVs **through the same `%sql` connection**\n"
      ]
    },
    {
      "cell_type": "code",
      "metadata": {},
      "source": [
        "!pip -q install --upgrade duckdb duckdb-engine \"sqlalchemy>=2.0\" ipython-sql jupysql\n",
        "\n",
        "import os, subprocess\n",
        "REPO_USER = \"danielsgraves\"          # <-- correct owner\n",
        "REPO_NAME = \"Graves_Greenery_Analysis\"\n",
        "REPO_DIR  = f\"/content/{REPO_NAME}\"\n",
        "\n",
        "if not os.path.exists(REPO_DIR):\n",
        "    subprocess.run(\n",
        "        f\"git clone --depth 1 https://github.com/{REPO_USER}/{REPO_NAME}.git {REPO_DIR}\",\n",
        "        shell=True, check=True\n",
        "    )\n",
        "else:\n",
        "    subprocess.run(f\"git -C {REPO_DIR} pull --ff-only\", shell=True, check=True)\n",
        "\n",
        "print(\"Repo ready at:\", REPO_DIR)\n",
        "print(\"CSV root:\", f\"{REPO_DIR}/data\")"
      ],
      "execution_count": null,
      "outputs": []
    },
    {
      "cell_type": "markdown",
      "metadata": {},
      "source": [
        "## DB path (we’ll rebuild from CSV each run)\n",
        "- We remove any stale DB file to prevent config conflicts, then reconnect cleanly with `%sql`.\n"
      ]
    },
    {
      "cell_type": "code",
      "metadata": {},
      "source": [
        "import os\n",
        "DB_PATH = \"/content/graves_greenery.duckdb\"  # single DB file used everywhere\n",
        "\n",
        "# Remove stale DB file to avoid \"same file different config\" lock\n",
        "if os.path.exists(DB_PATH):\n",
        "    os.remove(DB_PATH)\n",
        "print(\"DB file set:\", DB_PATH, \"(any old file removed if existed)\")"
      ],
      "execution_count": null,
      "outputs": []
    },
    {
      "cell_type": "markdown",
      "metadata": {},
      "source": [
        "## Connect once via `%sql` (no DBAPI/engines)\n",
        "We let `%sql` open the only connection to the DB file."
      ]
    },
    {
      "cell_type": "code",
      "metadata": {},
      "source": [
        "%reload_ext sql\n",
        "\n",
        "# Use absolute path DSN (four slashes for absolute path)\n",
        "%sql duckdb:////content/graves_greenery.duckdb\n",
        "print(\"Connected %sql to:\", DB_PATH)"
      ],
      "execution_count": null,
      "outputs": []
    },
    {
      "cell_type": "code",
      "metadata": {},
      "source": [
        "%%sql\n",
        "SELECT * FROM pragma_database_list();"
      ],
      "execution_count": null,
      "outputs": []
    },
    {
      "cell_type": "markdown",
      "metadata": {},
      "source": [
        "## Load CSVs using the same `%sql` connection\n",
        "We build `CREATE TABLE ... AS SELECT * FROM read_csv_auto(...)` statements and execute them through `%sql` so we never open a second connection.\n"
      ]
    },
    {
      "cell_type": "code",
      "metadata": {},
      "source": [
        "import os, re, glob\n",
        "from pathlib import Path\n",
        "\n",
        "CSV_GLOB = \"data/**/*.[cC][sS][vV]\"  # case-insensitive .csv\n",
        "INCLUDE_PARENT_IN_TABLE = False\n",
        "\n",
        "def slugify_table_name(path, include_parent=False):\n",
        "    p = Path(path)\n",
        "    stem = re.sub(r'[^a-z0-9_]+','_', p.stem.lower()).strip('_')\n",
        "    if include_parent and p.parent != p.parent.parent:\n",
        "        parent = re.sub(r'[^a-z0-9_]+','_', p.parent.name.lower()).strip('_')\n",
        "        stem = f\"{parent}_{stem}\"\n",
        "    if re.match(r'^\\d', stem):\n",
        "        stem = 't_' + stem\n",
        "    return stem\n",
        "\n",
        "files = glob.glob(os.path.join(REPO_DIR, CSV_GLOB), recursive=True)\n",
        "print(f\"Found {len(files)} CSV(s). Loading…\")\n",
        "\n",
        "loaded = []\n",
        "for f in files:\n",
        "    tbl = slugify_table_name(f, INCLUDE_PARENT_IN_TABLE)\n",
        "    q = f\"\"\"\n",
        "    CREATE OR REPLACE TABLE \"{tbl}\" AS\n",
        "    SELECT * FROM read_csv_auto('{f}', header=True, sample_size=-1, ignore_errors=True);\n",
        "    \"\"\"\n",
        "    # Execute via the bound %sql connection\n",
        "    get_ipython().run_cell_magic('sql', '', q)\n",
        "    loaded.append((tbl, f))\n",
        "\n",
        "print(\"Loaded tables (first few):\", [t for t,_ in loaded[:8]])"
      ],
      "execution_count": null,
      "outputs": []
    },
    {
      "cell_type": "markdown",
      "metadata": {},
      "source": [
        "## Verify & query\n",
        "List tables, then run a simple test query. If your customers file is named differently, pick a real table name from the list."
      ]
    },
    {
      "cell_type": "code",
      "metadata": {},
      "source": [
        "%%sql\n",
        "SELECT table_name\n",
        "FROM information_schema.tables\n",
        "WHERE table_schema = 'main'\n",
        "ORDER BY table_name;"
      ],
      "execution_count": null,
      "outputs": []
    },
    {
      "cell_type": "code",
      "metadata": {},
      "source": [
        "%%sql\n",
        "-- Replace 'customers' with any table name shown above if different\n",
        "SELECT * FROM customers LIMIT 5;"
      ],
      "execution_count": null,
      "outputs": []
    }
  ]
}
