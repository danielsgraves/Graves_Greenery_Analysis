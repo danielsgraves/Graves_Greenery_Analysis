{
  "cells": [
    {
      "cell_type": "markdown",
      "metadata": {},
      "source": [
        "<a href=\"https://colab.research.google.com/github/danielsgraves/Graves_Greenery_Analysis/blob/main/notebook/Graves_Greenery.ipynb\" target=\"_parent\"><img src=\"https://colab.research.google.com/assets/colab-badge.svg\" alt=\"Open In Colab\"/></a>"
      ]
    },
    {
      "cell_type": "markdown",
      "metadata": {},
      "source": [
        "# Graves' Greenery Dataset\n",
        "\n",
        "> Colab is pre-configured for SQL magic (`%sql` / `%%sql`) with a local SQLite database."
      ]
    },
    {
      "cell_type": "code",
      "metadata": {},
      "execution_count": null,
      "outputs": [],
      "source": [
        "# --- CONFIG ---\n",
        "REPO_URL  = \"https://github.com/danielsgraves/Graves_Greenery_Analysis.git\"\n",
        "REPO_NAME = \"Graves_Greenery_Analysis\"\n",
        "DATA_DIR  = f\"/content/{REPO_NAME}/data\"\n",
        "DB_FILE   = f\"/content/{REPO_NAME}/outputs/graves_greenery.db\"\n",
        "LOAD_FROM_CSV = True  # set False to keep existing DB tables"
      ]
    },
    {
      "cell_type": "code",
      "metadata": {},
      "execution_count": null,
      "outputs": [],
      "source": [
        "# --- SYNC REPO ---\n",
        "import os, subprocess\n",
        "\n",
        "def run(cmd):\n",
        "    p = subprocess.run(cmd, shell=True, text=True, stdout=subprocess.PIPE, stderr=subprocess.STDOUT)\n",
        "    print(p.stdout)\n",
        "    if p.returncode != 0:\n",
        "        raise RuntimeError(f\"Command failed: {cmd}\")\n",
        "\n",
        "if not os.path.exists(f\"/content/{REPO_NAME}\"):\n",
        "    run(f\"git clone {REPO_URL} /content/{REPO_NAME}\")\n",
        "else:\n",
        "    os.chdir(f\"/content/{REPO_NAME}\")\n",
        "    run(\"git fetch --all --prune\")\n",
        "    run(\"git pull --rebase\")\n",
        "\n",
        "os.chdir(f\"/content/{REPO_NAME}\")\n",
        "print(\"Working dir:\", os.getcwd())\n",
        "run(\"ls -la\")"
      ]
    },
    {
      "cell_type": "code",
      "metadata": {},
      "execution_count": null,
      "outputs": [],
      "source": [
        "# --- INSTALL & LOAD SQL MAGIC (PINNED VERSIONS) ---\n",
        "!pip install -q jupysql==0.10.12 prettytable==3.9.0 sqlalchemy\n",
        "%load_ext sql\n",
        "%config SqlMagic.autopandas = True        # return DataFrames (avoid PrettyTable rendering)\n",
        "%config SqlMagic.style = 'PLAIN_COLUMNS'   # style exists in prettytable 3.9.0\n",
        "%config SqlMagic.displaycon = False\n",
        "%config SqlMagic.autolimit = 0"
      ]
    },
    {
      "cell_type": "code",
      "metadata": {},
      "execution_count": null,
      "outputs": [],
      "source": [
        "# --- CONNECT TO SQLITE ---\n",
        "import os\n",
        "os.makedirs(\"outputs\", exist_ok=True)\n",
        "%sql sqlite:///outputs/graves_greenery.db\n",
        "print(\"SQLite ready → outputs/graves_greenery.db\")"
      ]
    },
    {
      "cell_type": "code",
      "metadata": {},
      "execution_count": null,
      "outputs": [],
      "source": [
        "# --- LOAD CSVs INTO TABLES (first run or when toggled) ---\n",
        "import os, glob, sqlite3, pandas as pd\n",
        "\n",
        "if LOAD_FROM_CSV or not os.path.exists(DB_FILE):\n",
        "    conn = sqlite3.connect(DB_FILE)\n",
        "    if os.path.exists(DATA_DIR):\n",
        "        for path in sorted(glob.glob(os.path.join(DATA_DIR, \"*.csv\"))):\n",
        "            table = os.path.splitext(os.path.basename(path))[0]\n",
        "            try:\n",
        "                df = pd.read_csv(path)\n",
        "                df.to_sql(table, conn, if_exists=\"replace\", index=False)\n",
        "                print(f\"Loaded {table} ({len(df):,} rows)\")\n",
        "            except Exception as e:\n",
        "                print(f\"Failed to load {path}: {e}\")\n",
        "    else:\n",
        "        print(f\"⚠️ DATA_DIR not found: {DATA_DIR}\")\n",
        "    conn.close()"
      ]
    },
    {
      "cell_type": "code",
      "metadata": {},
      "execution_count": null,
      "outputs": [],
      "source": [
        "%%sql\n",
        "SELECT name AS table_name\n",
        "FROM sqlite_master\n",
        "WHERE type='table'\n",
        "ORDER BY name;"
      ]
    },
    {
      "cell_type": "code",
      "metadata": {},
      "execution_count": null,
      "outputs": [],
      "source": [
        "# --- REFRESH REPO HELPER ---\n",
        "def refresh_repo():\n",
        "    import subprocess, os\n",
        "    os.chdir(f\"/content/{REPO_NAME}\")\n",
        "    subprocess.run(\"git pull --rebase\", shell=True, check=False)\n",
        "    print(\"Repo refreshed.\")\n",
        "# refresh_repo()"
      ]
    },
    {
      "cell_type": "markdown",
      "metadata": {},
      "source": [
        "## SQL Sandbox\n",
        "Use `%%sql` below to run queries directly against SQLite."
      ]
    },
    {
      "cell_type": "code",
      "metadata": {},
      "execution_count": null,
      "outputs": [],
      "source": [
        "%%sql\n",
        "-- Example (edit/replace):\n",
        "-- SELECT COUNT(*) AS n FROM dim_customers;\n",
        "-- SELECT * FROM fact_order_items LIMIT 5;"
      ]
    },
    {
      "cell_type": "markdown",
      "metadata": {},
      "source": [
        "# Project Overview"
      ]
    },
    {
      "cell_type": "markdown",
      "metadata": {},
      "source": [
        "# Problem Statement"
      ]
    },
    {
      "cell_type": "markdown",
      "metadata": {},
      "source": [
        "# Data Cleaning and Preparation"
      ]
    },
    {
      "cell_type": "markdown",
      "metadata": {},
      "source": [
        "# Exploratory Data Analysis (EDA)"
      ]
    },
    {
      "cell_type": "markdown",
      "metadata": {},
      "source": [
        "# Solution and Implementation"
      ]
    },
    {
      "cell_type": "markdown",
      "metadata": {},
      "source": [
        "# Recommendations and Next Steps"
      ]
    }
  ],
  "metadata": {
    "colab": {
      "include_colab_link": true
    },
    "kernelspec": {
      "display_name": "Python 3",
      "name": "python3"
    },
    "language_info": {
      "name": "python"
    }
  },
  "nbformat": 4,
  "nbformat_minor": 0
}
