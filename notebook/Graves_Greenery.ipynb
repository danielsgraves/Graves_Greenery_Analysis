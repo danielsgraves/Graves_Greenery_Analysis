{
  "cells": [
    {
      "cell_type": "markdown",
      "metadata": {},
      "source": [
        "# Graves' Greenery — Setup\n",
        "---\n",
        "## SQL via DuckDB (ipython-sql + PrettyTable)\n",
        "Single DuckDB connection (no server). All CSVs in `/data` are exposed as VIEWS (or TABLES) using the active %sql connection."
      ]
    },
    {
      "cell_type": "code",
      "metadata": {},
      "execution_count": null,
      "outputs": [],
      "source": [
        "# --- CONFIG ---\n",
        "REPO_USER = \"danielsgraves\"\n",
        "REPO_NAME = \"Graves_Greenery_Analysis\"                  # repo folder name after clone\n",
        "REPO_DIR  = f\"/content/{REPO_NAME}\"\n",
        "DATA_DIR  = f\"{REPO_DIR}/data\"                           # CSVs live here\n",
        "DB_FILE   = f\"{REPO_DIR}/outputs/graves_greenery.duckdb\"  # DuckDB file\n",
        "LOAD_AS_VIEWS = True   # True: CSV -> VIEW (zero copy). False: CSV -> TABLE (materialize)\n",
        "PRINT_SAMPLE_ROWS = 5   # preview rows in dashboard (0 to disable)"
      ]
    },
    {
      "cell_type": "code",
      "metadata": {},
      "execution_count": null,
      "outputs": [],
      "source": [
        "# --- SYNC REPO: clone if missing, else pull latest ---\n",
        "import os, subprocess\n",
        "\n",
        "def run(cmd):\n",
        "    p = subprocess.run(cmd, shell=True, text=True, stdout=subprocess.PIPE, stderr=subprocess.STDOUT)\n",
        "    print(p.stdout)\n",
        "    if p.returncode != 0:\n",
        "        raise RuntimeError(f\"Command failed: {cmd}\")\n",
        "\n",
        "if not os.path.exists(REPO_DIR):\n",
        "    run(f\"git clone https://github.com/{REPO_USER}/{REPO_NAME}.git {REPO_DIR}\")\n",
        "else:\n",
        "    os.chdir(REPO_DIR)\n",
        "    run(\"git fetch --all --prune\")\n",
        "    run(\"git pull --rebase\")\n",
        "\n",
        "os.makedirs(f\"{REPO_DIR}/outputs\", exist_ok=True)\n",
        "os.chdir(REPO_DIR)\n",
        "print(\"Working dir:\", os.getcwd())\n",
        "run(\"ls -la\")"
      ]
    },
    {
      "cell_type": "code",
      "metadata": {},
      "execution_count": null,
      "outputs": [],
      "source": [
        "# --- INSTALL: ipython-sql + PrettyTable + DuckDB SQLAlchemy driver ---\n",
        "%pip -q install ipython-sql prettytable duckdb duckdb-engine sqlalchemy pandas\n",
        "\n",
        "# Load SQL magic and configure rendering\n",
        "%reload_ext sql\n",
        "%config SqlMagic.autopandas = False   # PrettyTable output (set True for DataFrame output)\n",
        "%config SqlMagic.feedback = False\n",
        "\n",
        "# Choose a valid PrettyTable style (fallback to DataFrame if none)\n",
        "import prettytable as pt\n",
        "candidates = ['MARKDOWN','PLAIN_COLUMNS','MSWORD_FRIENDLY','DOUBLE_BORDER','SINGLE_BORDER','DEFAULT']\n",
        "avail = [s for s in candidates if hasattr(pt, s)]\n",
        "if avail:\n",
        "    chosen = avail[0]\n",
        "    get_ipython().run_line_magic('config', f\"SqlMagic.style = '{chosen}'\")\n",
        "    print(f\"PrettyTable style set to: {chosen}\")\n",
        "else:\n",
        "    get_ipython().run_line_magic('config', \"SqlMagic.autopandas = True\")\n",
        "    print(\"No PrettyTable styles detected; switched to DataFrame rendering.\")"
      ]
    },
    {
      "cell_type": "code",
      "metadata": { "id": "connect-duckdb" },
      "execution_count": null,
      "outputs": [],
      "source": [
        "# --- RESET & CONNECT TO DUCKDB SAFELY ---\n",
        "%reload_ext sql\n",
        "try:\n",
        "    from sql.connection import Connection\n",
        "    for key in list(Connection.connections.keys()):\n",
        "        try:\n",
        "            Connection.close(key)\n",
        "            print('Closed:', key)\n",
        "        except Exception as e:\n",
        "            print('Skip:', key, '->', e)\n",
        "    print('All old connections closed.')\n",
        "except Exception as e:\n",
        "    print('No prior connections or cleanup error:', e)\n",
        "\n",
        "db_url  = f\"duckdb:///{DB_FILE}\"\n",
        "%sql $db_url\n",
        "%config SqlMagic.autopandas = False  # keep PrettyTable as default\n",
        "print('✅ Connected to:', db_url)"
      ]
    },
    {
      "cell_type": "code",
      "metadata": { "id": "load-csvs-through-sql" },
      "execution_count": null,
      "outputs": [],
      "source": [
        "# --- LOAD ALL CSVs USING THE ACTIVE %sql CONNECTION (NO SECOND DUCKDB CONNECTION) ---\n",
        "import os, glob\n",
        "from IPython import get_ipython\n",
        "\n",
        "files = sorted(glob.glob(os.path.join(DATA_DIR, \"*.csv\")))\n",
        "print(f\"Found {len(files)} CSV(s) in {DATA_DIR}\")\n",
        "if not files:\n",
        "    print(\"⚠️ No CSVs found. Put your data files under /data in the repo.\")\n",
        "else:\n",
        "    for path in files:\n",
        "        table = os.path.splitext(os.path.basename(path))[0]\n",
        "        if LOAD_AS_VIEWS:\n",
        "            sql = f\"\"\"\n",
        "            CREATE OR REPLACE VIEW {table} AS\n",
        "            SELECT * FROM read_csv_auto('{path}', HEADER=TRUE);\n",
        "            \"\"\"\n",
        "        else:\n",
        "            sql = f\"\"\"\n",
        "            CREATE OR REPLACE TABLE {table} AS\n",
        "            SELECT * FROM read_csv_auto('{path}', HEADER=TRUE);\n",
        "            \"\"\"\n",
        "        get_ipython().run_cell_magic('sql', '', sql)\n",
        "        print((\"VIEW ready: \" if LOAD_AS_VIEWS else \"TABLE loaded: \") + table)\n",
        "\n",
        "print(\"Done.\")"
      ]
    },
    {
      "cell_type": "code",
      "metadata": { "id": "show-tables" },
      "execution_count": null,
      "outputs": [],
      "source": [
        "%%sql\n",
        "SHOW TABLES;"
      ]
    },
    {
      "cell_type": "code",
      "metadata": { "id": "row-count-dashboard" },
      "execution_count": null,
      "outputs": [],
      "source": [
        "# --- ROW COUNT DASHBOARD (ROBUST, AUTOPANDAS-AWARE) ---\n",
        "%config SqlMagic.autopandas = True   # return Pandas DataFrames directly from %sql\n",
        "import pandas as pd\n",
        "\n",
        "def _to_df(res):\n",
        "    # If SqlMagic.autopandas=True, res is already a DataFrame; otherwise has .DataFrame()\n",
        "    return res if isinstance(res, pd.DataFrame) else (res.DataFrame() if res is not None else pd.DataFrame())\n",
        "\n",
        "# 1) Get table names (prefer duckdb_tables(); fallback to SHOW TABLES)\n",
        "tables = []\n",
        "try:\n",
        "    res = %sql SELECT table_name FROM duckdb_tables() WHERE NOT internal ORDER BY table_name;\n",
        "    df_names = _to_df(res)\n",
        "    if not df_names.empty and 'table_name' in df_names.columns:\n",
        "        tables = df_names['table_name'].tolist()\n",
        "    else:\n",
        "        raise ValueError('duckdb_tables() did not return table_name column')\n",
        "except Exception as e:\n",
        "    print('Fallback to SHOW TABLES due to error:', e)\n",
        "    res2 = %sql SHOW TABLES;\n",
        "    df2 = _to_df(res2)\n",
        "    if not df2.empty:\n",
        "        col = 'name' if 'name' in df2.columns else df2.columns[0]\n",
        "        tables = df2[col].tolist()\n",
        "\n",
        "rows = []\n",
        "for t in tables:\n",
        "    cnt = %sql SELECT COUNT(*) AS n FROM $t;\n",
        "    df_cnt = _to_df(cnt)\n",
        "    n = int(df_cnt.iloc[0, 0]) if not df_cnt.empty else 0\n",
        "    rows.append({'table': t, 'rows': n})\n",
        "\n",
        "counts = pd.DataFrame(rows).sort_values('table').reset_index(drop=True)\n",
        "display(counts)\n",
        "\n",
        "if PRINT_SAMPLE_ROWS and tables:\n",
        "    for t in tables:\n",
        "        print(f\"\\n### {t} (first {PRINT_SAMPLE_ROWS} rows)\")\n",
        "        _ = %sql SELECT * FROM $t LIMIT $PRINT_SAMPLE_ROWS;\n",
        "\n",
        "%config SqlMagic.autopandas = False   # switch back to PrettyTable for later cells"
      ]
    },
    {
      "cell_type": "markdown",
      "metadata": {},
      "source": [
        "## SQL Sandbox\n",
        "Use `%%sql` below to run queries directly against DuckDB."
      ]
    },
    {
      "cell_type": "code",
      "metadata": { "id": "sandbox" },
      "execution_count": null,
      "outputs": [],
      "source": [
        "%%sql\n",
        "SELECT * FROM dim_customers LIMIT 5;\n"
      ]
    }
  ],
  "metadata": {
    "colab": { "include_colab_link": true },
    "kernelspec": { "display_name": "Python 3", "name": "python3" },
    "language_info": { "name": "python" }
  },
  "nbformat": 4,
  "nbformat_minor": 0
}
