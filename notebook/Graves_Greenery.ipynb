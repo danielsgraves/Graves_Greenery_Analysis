{
  "cells": [
    {
      "cell_type": "markdown",
      "metadata": {
        "id": "view-in-github",
        "colab_type": "text"
      },
      "source": [
        "<a href=\"https://colab.research.google.com/github/danielsgraves/Graves_Greenery_Analysis/blob/main/Graves_Greenery.ipynb\" target=\"_parent\"><img src=\"https://colab.research.google.com/assets/colab-badge.svg\" alt=\"Open In Colab\"/></a>"
      ]
    },
    {
      "cell_type": "markdown",
      "metadata": {
        "id": "3XEszVmn3_2y"
      },
      "source": [
        "#Graves' Greenery Dataset"
      ]
    },
    {
      "cell_type": "markdown",
      "metadata": {
        "id": "5ccf0182"
      },
      "source": [
        "# Project Overview"
      ]
    },
    {
      "cell_type": "markdown",
      "metadata": {
        "id": "c30118c5"
      },
      "source": [
        "# Problem Statement"
      ]
    },
    {
      "cell_type": "markdown",
      "metadata": {
        "id": "217a6cc0"
      },
      "source": [
        "# Data Cleaning and Preparation"
      ]
    },
    {
      "cell_type": "markdown",
      "metadata": {
        "id": "8ca05d4d"
      },
      "source": [
        "# Exploratory Data Analysis (EDA)"
      ]
    },
    {
      "cell_type": "markdown",
      "metadata": {
        "id": "f5d37123"
      },
      "source": [
        "# Solution and Implementation"
      ]
    },
    {
      "cell_type": "markdown",
      "metadata": {
        "id": "d97fb26f"
      },
      "source": [
        "# Recommendations and Next Steps"
      ]
    }
  ],
  "metadata": {
    "colab": {
      "provenance": [],
      "collapsed_sections": [
        "5O-pyYa94Gti",
        "G7a5KqrvNebG",
        "zEO3bIBaNoC9",
        "GDclH68UYz-J",
        "3bRw9R9d-prw",
        "xTqIL-P2lZsM",
        "9vaQw6crpig-",
        "zhhQI2GP2R3T",
        "jnaacRdxfIsJ",
        "XhjDpNIiodjT",
        "wA8Dvjm4oiZt",
        "3l0fTtCKpG5L",
        "GP4yYEaHrfp1",
        "TKZCx-M9_4CE",
        "QlROSe4ZApsU",
        "Hz9VrxMIBKi9",
        "9nwDN778ORke",
        "a7bTe_DjOX0V",
        "84ow7TXgpSz_",
        "2bbsio31pZyy",
        "Dm501g4NpePN",
        "ruD5dMdjpkX7",
        "Sv9GGgzErc7B",
        "cQpkNFKmriMT",
        "b31ptH4Vrpyv",
        "uatn5iLt5uqs",
        "hdNyDTO-5yru",
        "EL5-5hEJ53GN",
        "eG723PL5gCrA",
        "FvrX8FbLsgtF",
        "avKJU8Zospc_",
        "SuMjiWGZssoo",
        "LVmHVQ_4DpSQ"
      ],
      "authorship_tag": "ABX9TyOqdspr4/tFhDldSC/JvYIt",
      "include_colab_link": true
    },
    "kernelspec": {
      "display_name": "Python 3",
      "name": "python3"
    },
    "language_info": {
      "name": "python"
    }
  },
  "nbformat": 4,
  "nbformat_minor": 0
}
