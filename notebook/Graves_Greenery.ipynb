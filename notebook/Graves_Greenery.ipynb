{
  "cells": [
    {
      "cell_type": "markdown",
      "metadata": {},
      "source": [
        "# Graves' Greenery — Setup\n",
        "---\n",
        "## SQL via DuckDB (ipython-sql + PrettyTable)\n",
        "Single DuckDB connection (no server). All CSVs in `/data` are exposed as VIEWS (or TABLES) using the active %sql connection."
      ]
    },
    {
      "cell_type": "code",
      "metadata": {},
      "execution_count": null,
      "outputs": [],
      "source": [
        "# --- CONFIG ---\n",
        "REPO_USER = \"danielsgraves\"\n",
        "REPO_NAME = \"Graves_Greenery_Analysis\"\n",
        "REPO_DIR  = f\"/content/{REPO_NAME}\"\n",
        "DATA_DIR  = f\"{REPO_DIR}/data\"\n",
        "DB_FILE   = f\"{REPO_DIR}/outputs/graves_greenery.duckdb\"\n",
        "LOAD_AS_VIEWS = True\n",
        "PRINT_SAMPLE_ROWS = 5"
      ]
    },
    {
      "cell_type": "code",
      "metadata": {},
      "execution_count": null,
      "outputs": [],
      "source": [
        "# --- SYNC REPO ---\n",
        "import os, subprocess\n",
        "\n",
        "def run(cmd):\n",
        "    p = subprocess.run(cmd, shell=True, text=True, stdout=subprocess.PIPE, stderr=subprocess.STDOUT)\n",
        "    print(p.stdout)\n",
        "    if p.returncode != 0:\n",
        "        raise RuntimeError(f\"Command failed: {cmd}\")\n",
        "\n",
        "if not os.path.exists(REPO_DIR):\n",
        "    run(f\"git clone https://github.com/{REPO_USER}/{REPO_NAME}.git {REPO_DIR}\")\n",
        "else:\n",
        "    os.chdir(REPO_DIR)\n",
        "    run(\"git fetch --all --prune\")\n",
        "    run(\"git pull --rebase\")\n",
        "\n",
        "os.makedirs(f\"{REPO_DIR}/outputs\", exist_ok=True)\n",
        "os.chdir(REPO_DIR)\n",
        "print(\"Working dir:\", os.getcwd())\n",
        "run(\"ls -la\")"
      ]
    },
    {
      "cell_type": "code",
      "metadata": {},
      "execution_count": null,
      "outputs": [],
      "source": [
        "# --- INSTALL: ipython-sql + PrettyTable + DuckDB ---\n",
        "%pip -q install ipython-sql prettytable duckdb duckdb-engine sqlalchemy pandas\n",
        "\n",
        "%reload_ext sql\n",
        "%config SqlMagic.autopandas = False\n",
        "%config SqlMagic.feedback = False\n",
        "\n",
        "import prettytable as pt\n",
        "candidates = ['MARKDOWN','PLAIN_COLUMNS','MSWORD_FRIENDLY','DOUBLE_BORDER','SINGLE_BORDER','DEFAULT']\n",
        "avail = [s for s in candidates if hasattr(pt, s)]\n",
        "if avail:\n",
        "    chosen = avail[0]\n",
        "    get_ipython().run_line_magic('config', f\"SqlMagic.style = '{chosen}'\")\n",
        "    print(f\"PrettyTable style set to: {chosen}\")\n",
        "else:\n",
        "    get_ipython().run_line_magic('config', \"SqlMagic.autopandas = True\")\n",
        "    print(\"No PrettyTable styles detected; switched to DataFrame rendering.\")"
      ]
    },
    {
      "cell_type": "code",
      "metadata": { "id": "connect-duckdb" },
      "execution_count": null,
      "outputs": [],
      "source": [
        "# --- RESET CONNECTIONS + CONNECT TO DUCKDB ---\n",
        "%reload_ext sql\n",
        "try:\n",
        "    from sql.connection import Connection\n",
        "    for key in list(Connection.connections.keys()):\n",
        "        try:\n",
        "            Connection.close(key)\n",
        "            print('Closed:', key)\n",
        "        except Exception as e:\n",
        "            print('Skip:', key, '->', e)\n",
        "    print('All old connections closed.')\n",
        "except Exception as e:\n",
        "    print('No prior connections or cleanup error:', e)\n",
        "\n",
        "db_url  = f\"duckdb:///{DB_FILE}\"\n",
        "%sql $db_url\n",
        "print('✅ Connected to:', db_url)"
      ]
    },
    {
      "cell_type": "code",
      "metadata": { "id": "load-csvs" },
      "execution_count": null,
      "outputs": [],
      "source": [
        "# --- LOAD ALL CSVs INTO DUCKDB ---\n",
        "import os, glob\n",
        "from IPython import get_ipython\n",
        "\n",
        "files = sorted(glob.glob(os.path.join(DATA_DIR, \"*.csv\")))\n",
        "print(f\"Found {len(files)} CSV(s) in {DATA_DIR}\")\n",
        "if not files:\n",
        "    print(\"⚠️ No CSVs found. Put your data files under /data.\")\n",
        "else:\n",
        "    for path in files:\n",
        "        table = os.path.splitext(os.path.basename(path))[0]\n",
        "        if LOAD_AS_VIEWS:\n",
        "            sql = f\"\"\"\n",
        "            CREATE OR REPLACE VIEW {table} AS\n",
        "            SELECT * FROM read_csv_auto('{path}', HEADER=TRUE);\n",
        "            \"\"\"\n",
        "        else:\n",
        "            sql = f\"\"\"\n",
        "            CREATE OR REPLACE TABLE {table} AS\n",
        "            SELECT * FROM read_csv_auto('{path}', HEADER=TRUE);\n",
        "            \"\"\"\n",
        "        get_ipython().run_cell_magic('sql', '', sql)\n",
        "        print(('VIEW ready: ' if LOAD_AS_VIEWS else 'TABLE loaded: ') + table)\n",
        "print('Done.')"
      ]
    },
    {
      "cell_type": "code",
      "metadata": { "id": "show-tables" },
      "execution_count": null,
      "outputs": [],
      "source": [
        "%%sql\n",
        "SHOW TABLES;"
      ]
    },
    {
      "cell_type": "code",
      "metadata": { "id": "row-count-dashboard" },
      "execution_count": null,
      "outputs": [],
      "source": [
        "# --- ROW COUNT DASHBOARD (FIXED VERSION) ---\n",
        "%config SqlMagic.autopandas = True\n",
        "import pandas as pd\n",
        "\n",
        "# 1️⃣ Try reading from duckdb_tables(), fallback to SHOW TABLES if needed\n",
        "try:\n",
        "    res = %sql SELECT table_name FROM duckdb_tables() WHERE NOT internal ORDER BY table_name;\n",
        "    df_names = res.DataFrame()\n",
        "    tables = df_names['table_name'].tolist()\n",
        "except Exception as e:\n",
        "    print('Fallback to SHOW TABLES due to error:', e)\n",
        "    res2 = %sql SHOW TABLES;\n",
        "    df2 = res2.DataFrame()\n",
        "    col = 'name' if 'name' in df2.columns else df2.columns[0]\n",
        "    tables = df2[col].tolist()\n",
        "\n",
        "# 2️⃣ Count rows per table\n",
        "rows = []\n",
        "for t in tables:\n",
        "    cnt = %sql SELECT COUNT(*) AS n FROM $t;\n",
        "    n = int(cnt.DataFrame()['n'][0])\n",
        "    rows.append({'table': t, 'rows': n})\n",
        "\n",
        "counts = pd.DataFrame(rows).sort_values('table').reset_index(drop=True)\n",
        "display(counts)\n",
        "\n",
        "# 3️⃣ Optional preview samples\n",
        "if PRINT_SAMPLE_ROWS and tables:\n",
        "    for t in tables:\n",
        "        print(f\"\\n### {t} (first {PRINT_SAMPLE_ROWS} rows)\")\n",
        "        _ = %sql SELECT * FROM $t LIMIT $PRINT_SAMPLE_ROWS;\n",
        "\n",
        "%config SqlMagic.autopandas = False"
      ]
    },
    {
      "cell_type": "markdown",
      "metadata": {},
      "source": [
        "## SQL Sandbox\n",
        "Use `%%sql` below to run queries directly against DuckDB."
      ]
    },
    {
      "cell_type": "code",
      "metadata": { "id": "sandbox" },
      "execution_count": null,
      "outputs": [],
      "source": [
        "%%sql\n",
        "-- Example:\n",
        "-- SELECT COUNT(*) AS n FROM dim_customers;\n",
        "-- SELECT category, COUNT(*) FROM dim_plants GROUP BY category ORDER BY 2 DESC LIMIT 10;"
      ]
    }
  ],
  "metadata": {
    "colab": { "include_colab_link": true },
    "kernelspec": { "display_name": "Python 3", "name": "python3" },
    "language_info": { "name": "python" }
  },
  "nbformat": 4,
  "nbformat_minor": 0
}
