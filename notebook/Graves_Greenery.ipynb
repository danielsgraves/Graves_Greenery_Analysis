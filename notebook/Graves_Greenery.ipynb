{
  "cells": [
    {
      "cell_type": "markdown",
      "metadata": {
        "id": "fG7huVAYz6NB"
      },
      "source": [
        "# Graves' Greenery — SQL (DuckDB via ipython-sql)\n",
        "\n",
        "Runs **`%sql` / `%%sql`** with **PrettyTable** on top of **DuckDB** (no server required).\n",
        "\n",
        "- CSVs are loaded from `/data` into `outputs/graves_greenery.duckdb`\n",
        "- You can commit the DB file if you want, or rebuild each session"
      ]
    },
    {
      "cell_type": "code",
      "metadata": {
        "id": "O1OZi7Ibz6ND"
      },
      "execution_count": null,
      "outputs": [],
      "source": [
        "# --- CONFIG ---\n",
        "REPO_USER = \"danielsgraves\"\n",
        "REPO_NAME = \"Graves_Greenery_Analysis\"                 # repo folder name after clone\n",
        "DATA_DIR  = f\"/content/{REPO_NAME}/data\"               # CSVs live here\n",
        "DB_FILE   = f\"/content/{REPO_NAME}/outputs/graves_greenery.duckdb\"  # DuckDB file\n",
        "LOAD_FROM_CSV = True   # set False to keep existing tables\n"
      ]
    },
    {
      "cell_type": "code",
      "metadata": {
        "id": "Rv_kaMYaz6NE"
      },
      "execution_count": null,
      "outputs": [],
      "source": [
        "# --- SYNC REPO: clone if missing, else pull latest ---\n",
        "import os, subprocess\n",
        "\n",
        "def run(cmd):\n",
        "    p = subprocess.run(cmd, shell=True, text=True, stdout=subprocess.PIPE, stderr=subprocess.STDOUT)\n",
        "    print(p.stdout)\n",
        "    if p.returncode != 0:\n",
        "        raise RuntimeError(f\"Command failed: {cmd}\")\n",
        "\n",
        "if not os.path.exists(f\"/content/{REPO_NAME}\"):\n",
        "    run(f\"git clone https://github.com/{REPO_USER}/{REPO_NAME}.git /content/{REPO_NAME}\")\n",
        "else:\n",
        "    os.chdir(f\"/content/{REPO_NAME}\")\n",
        "    run(\"git fetch --all --prune\")\n",
        "    run(\"git pull --rebase\")\n",
        "\n",
        "os.makedirs(f\"/content/{REPO_NAME}/outputs\", exist_ok=True)\n",
        "os.chdir(f\"/content/{REPO_NAME}\")\n",
        "print(\"Working dir:\", os.getcwd())\n",
        "run(\"ls -la\")\n"
      ]
    },
    {
      "cell_type": "code",
      "metadata": {
        "id": "zcJwk2_Ez6NE"
      },
      "execution_count": null,
      "outputs": [],
      "source": [
        "# --- INSTALL: ipython-sql + PrettyTable + DuckDB (via SQLAlchemy) ---\n",
        "%pip -q install ipython-sql prettytable duckdb duckdb-engine sqlalchemy pandas\n",
        "\n",
        "# Load SQL magic\n",
        "%reload_ext sql\n",
        "\n",
        "# Prefer PrettyTable rendering (you can switch to DataFrame by setting autopandas=True)\n",
        "%config SqlMagic.autopandas = False\n",
        "%config SqlMagic.feedback = False\n",
        "\n",
        "# Pick a PrettyTable style that exists in this runtime\n",
        "import prettytable as pt\n",
        "candidates = [\n",
        "    'MARKDOWN', 'PLAIN_COLUMNS', 'MSWORD_FRIENDLY', 'DOUBLE_BORDER', 'SINGLE_BORDER', 'DEFAULT'\n",
        "]\n",
        "avail = [s for s in candidates if hasattr(pt, s)]\n",
        "if avail:\n",
        "    chosen = avail[0]\n",
        "    get_ipython().run_line_magic('config', f\"SqlMagic.style = '{chosen}'\")\n",
        "    print(f\"PrettyTable style set to: {chosen}\")\n",
        "else:\n",
        "    # Fallback to DataFrame rendering if no style is available for some reason\n",
        "    get_ipython().run_line_magic('config', \"SqlMagic.autopandas = True\")\n",
        "    print(\"No PrettyTable styles detected; switched to DataFrame rendering.\")\n"
      ]
    },
    {
      "cell_type": "code",
      "metadata": {
        "id": "s-MHXN1gz6NE"
      },
      "execution_count": null,
      "outputs": [],
      "source": [
        "# --- CONNECT %sql TO DUCKDB (SQLAlchemy URL) ---\n",
        "%sql duckdb:///%s\n",
        "# (Note: Colab prints a harmless warning string, but the connection works.)\n",
        "# The path above is replaced at runtime by formatting with DB_FILE below.\n"
      ]
    },
    {
      "cell_type": "code",
      "metadata": {
        "id": "bind-db-file"
      },
      "execution_count": null,
      "outputs": [],
      "source": [
        "# Bind the %sql connection to the actual DB file path (DB_FILE)\n",
        "from IPython.display import display\n",
        "db_url = f\"duckdb:///{DB_FILE}\"\n",
        "%sql $db_url\n",
        "print(\"Connected:\", db_url)\n"
      ]
    },
    {
      "cell_type": "code",
      "metadata": {
        "id": "load-csvs"
      },
      "execution_count": null,
      "outputs": [],
      "source": [
        "# --- LOAD ALL CSVs INTO DUCKDB TABLES (via pandas -> SQLAlchemy) ---\n",
        "import os, glob, pandas as pd\n",
        "from sqlalchemy import create_engine\n",
        "\n",
        "engine = create_engine(db_url)\n",
        "\n",
        "if LOAD_FROM_CSV:\n",
        "    files = sorted(glob.glob(os.path.join(DATA_DIR, \"*.csv\")))\n",
        "    if not files:\n",
        "        print(f\"⚠️ No CSVs found in {DATA_DIR}\")\n",
        "    for path in files:\n",
        "        table = os.path.splitext(os.path.basename(path))[0]\n",
        "        df = pd.read_csv(path)\n",
        "        # light normalization for safer SQL identifiers\n",
        "        df.columns = [c.strip().replace(\" \", \"_\") for c in df.columns]\n",
        "        df.to_sql(table, con=engine, if_exists=\"replace\", index=False)\n",
        "        print(f\"Loaded {table} ({len(df):,} rows)\")\n",
        "\n",
        "print(\"Ready.\")\n"
      ]
    },
    {
      "cell_type": "code",
      "metadata": {
        "id": "show-tables"
      },
      "execution_count": null,
      "outputs": [],
      "source": [
        "%%sql\n",
        "SHOW TABLES;\n"
      ]
    },
    {
      "cell_type": "markdown",
      "metadata": {
        "id": "BA05Uogez6NF"
      },
      "source": [
        "## SQL Sandbox\n",
        "Use `%%sql` below to run queries directly against DuckDB (PrettyTable output by default)."
      ]
    },
    {
      "cell_type": "code",
      "metadata": {
        "id": "sandbox"
      },
      "execution_count": null,
      "outputs": [],
      "source": [
        "%%sql\n",
        "-- Examples (replace with your schema):\n",
        "-- SELECT COUNT(*) AS n FROM dim_customers;\n",
        "-- SELECT category, COUNT(*) AS n FROM dim_plants GROUP BY category ORDER BY n DESC LIMIT 10;\n"
      ]
    },
    {
      "cell_type": "markdown",
      "metadata": {
        "id": "3PWsNI53z6NF"
      },
      "source": [
        "# Project Overview"
      ]
    },
    {
      "cell_type": "markdown",
      "metadata": {
        "id": "myQbSEkkz6NF"
      },
      "source": [
        "# Problem Statement"
      ]
    },
    {
      "cell_type": "markdown",
      "metadata": {
        "id": "xawI6wy-z6NG"
      },
      "source": [
        "# Data Cleaning and Preparation"
      ]
    },
    {
      "cell_type": "markdown",
      "metadata": {
        "id": "Nu6SQFxvz6NG"
      },
      "source": [
        "# Exploratory Data Analysis (EDA)"
      ]
    },
    {
      "cell_type": "markdown",
      "metadata": {
        "id": "vyQSG5Uzz6NG"
      },
      "source": [
        "# Solution and Implementation"
      ]
    },
    {
      "cell_type": "markdown",
      "metadata": {
        "id": "B7olHVNcz6NG"
      },
      "source": [
        "# Recommendations and Next Steps"
      ]
    }
  ],
  "metadata": {
    "colab": {
      "provenance": []
    },
    "kernelspec": {
      "display_name": "Python 3",
      "name": "python3"
    },
    "language_info": {
      "name": "python"
    }
  },
  "nbformat": 4,
  "nbformat_minor": 0
}